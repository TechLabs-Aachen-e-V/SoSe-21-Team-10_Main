{
 "cells": [
  {
   "cell_type": "markdown",
   "metadata": {},
   "source": [
    "# Imports"
   ]
  },
  {
   "cell_type": "code",
   "execution_count": 2,
   "metadata": {},
   "outputs": [],
   "source": [
    "import pandas as pd\n",
    "import numpy as np\n",
    "import matplotlib.pyplot as plt\n",
    "import seaborn as sns\n",
    "from pathlib import Path"
   ]
  },
  {
   "cell_type": "markdown",
   "metadata": {},
   "source": [
    "## Import the data as a pandas dataframe"
   ]
  },
  {
   "cell_type": "code",
   "execution_count": 4,
   "metadata": {},
   "outputs": [],
   "source": [
    "path_1 = Path('/Users/oleseifert/Documents/Techlabs/SoSe-21-Team-10_Main/data/raw')\n",
    "df = pd.read_csv(path_1.joinpath('train_timeseries.csv'), index_col='date', parse_dates=True)"
   ]
  },
  {
   "cell_type": "code",
   "execution_count": 5,
   "metadata": {},
   "outputs": [
    {
     "name": "stdout",
     "output_type": "stream",
     "text": [
      "<class 'pandas.core.frame.DataFrame'>\n",
      "DatetimeIndex: 19300680 entries, 2000-01-01 to 2016-12-31\n",
      "Data columns (total 20 columns):\n",
      " #   Column       Dtype  \n",
      "---  ------       -----  \n",
      " 0   fips         int64  \n",
      " 1   PRECTOT      float64\n",
      " 2   PS           float64\n",
      " 3   QV2M         float64\n",
      " 4   T2M          float64\n",
      " 5   T2MDEW       float64\n",
      " 6   T2MWET       float64\n",
      " 7   T2M_MAX      float64\n",
      " 8   T2M_MIN      float64\n",
      " 9   T2M_RANGE    float64\n",
      " 10  TS           float64\n",
      " 11  WS10M        float64\n",
      " 12  WS10M_MAX    float64\n",
      " 13  WS10M_MIN    float64\n",
      " 14  WS10M_RANGE  float64\n",
      " 15  WS50M        float64\n",
      " 16  WS50M_MAX    float64\n",
      " 17  WS50M_MIN    float64\n",
      " 18  WS50M_RANGE  float64\n",
      " 19  score        float64\n",
      "dtypes: float64(19), int64(1)\n",
      "memory usage: 3.0 GB\n"
     ]
    }
   ],
   "source": [
    "df.info()"
   ]
  },
  {
   "cell_type": "code",
   "execution_count": 5,
   "metadata": {},
   "outputs": [],
   "source": [
    "df_cut = df.iloc[0:366,:]"
   ]
  },
  {
   "cell_type": "markdown",
   "metadata": {},
   "source": [
    "## First Year (2000) is imported as 'df_cut'"
   ]
  },
  {
   "cell_type": "markdown",
   "metadata": {},
   "source": [
    "### Starting with some first explorations of the dataset. I will first do some plots of the columns."
   ]
  },
  {
   "cell_type": "markdown",
   "metadata": {},
   "source": [
    "# Description of Columns:\n",
    "\n",
    "**fips** = US county FIPS code. see: https://www.nrcs.usda.gov/wps/portal/nrcs/detail/national/home/?cid=nrcs143_0136 \\\n",
    "**date** = Date \\\n",
    "**PRECTOT** = Precipitation (mm day-1) \\\n",
    "**PS** = Surface Pressure (kPa) \\\n",
    "**QV2M** = Specific Humidity at 2 Meters (g/kg) \\\n",
    "**T2M** = Temperature at 2 Meters (C) \\\n",
    "**T2MDEW** = Dew/Frost Point at 2 Meters (C) \\\n",
    "**T2MWET** = Wet Bulb Temperature at 2 Meters (C) \\\n",
    "**T2M_MAX** = Maximum Temperature at 2 Meters (C) \\\n",
    "**T2M_MIN** = Minimum Temperature at 2 Meters (C) \\\n",
    "**T2M_RANGE** = Temperature Range at 2 Meters (C) \\\n",
    "**TS** = Earth Skin Temperature (C) \\\n",
    "**WS10M** = Wind Speed at 10 Meters (m/s) \\\n",
    "**WS10M_MAX** = Maximum Wind Speed at 10 Meters (m/s) \\\n",
    "**WS10M_MIN** = Minimum Wind Speed at 10 Meters (m/s) \\\n",
    "**WS10M_RANGE** = Wind Speed Range at 10 Meters (m/s) \\\n",
    "**WS50M** = Wind Speed at 50 Meters (m/s) \\\n",
    "**WS50M_MAX** = Maximum Wind Speed at 50 Meters (m/s) \\\n",
    "**WS50M_MIN** = Minimum Wind Speed at 50 Meters (m/s) \\\n",
    "**WS50M_RANGE** = Wind Speed Range at 50 Meters (m/s) \\\n",
    "**score** = Measure of drought ranging from 0 (no drought) to 5 (D4, see description)."
   ]
  },
  {
   "cell_type": "markdown",
   "metadata": {},
   "source": [
    "# Trying to build an ARIMA model"
   ]
  },
  {
   "cell_type": "code",
   "execution_count": 6,
   "metadata": {},
   "outputs": [],
   "source": [
    "from statsmodels.tsa.arima_model import ARIMA"
   ]
  },
  {
   "cell_type": "markdown",
   "metadata": {},
   "source": [
    "## Figure out order for ARIMA"
   ]
  },
  {
   "cell_type": "code",
   "execution_count": 7,
   "metadata": {},
   "outputs": [],
   "source": [
    "from pmdarima import auto_arima\n",
    "# ignore the warinings\n",
    "import warnings\n",
    "warnings.filterwarnings(\"ignore\")"
   ]
  },
  {
   "cell_type": "code",
   "execution_count": 8,
   "metadata": {},
   "outputs": [
    {
     "name": "stdout",
     "output_type": "stream",
     "text": [
      "Performing stepwise search to minimize aic\n",
      " ARIMA(2,0,2)(0,0,0)[0] intercept   : AIC=2346.750, Time=0.24 sec\n",
      " ARIMA(0,0,0)(0,0,0)[0] intercept   : AIC=2383.835, Time=0.01 sec\n",
      " ARIMA(1,0,0)(0,0,0)[0] intercept   : AIC=2346.366, Time=0.04 sec\n",
      " ARIMA(0,0,1)(0,0,0)[0] intercept   : AIC=2341.852, Time=0.05 sec\n",
      " ARIMA(0,0,0)(0,0,0)[0]             : AIC=2444.561, Time=0.01 sec\n",
      " ARIMA(1,0,1)(0,0,0)[0] intercept   : AIC=2343.836, Time=0.21 sec\n",
      " ARIMA(0,0,2)(0,0,0)[0] intercept   : AIC=2343.840, Time=0.06 sec\n",
      " ARIMA(1,0,2)(0,0,0)[0] intercept   : AIC=2345.851, Time=0.07 sec\n",
      " ARIMA(0,0,1)(0,0,0)[0]             : AIC=2377.506, Time=0.02 sec\n",
      "\n",
      "Best model:  ARIMA(0,0,1)(0,0,0)[0] intercept\n",
      "Total fit time: 0.735 seconds\n"
     ]
    },
    {
     "data": {
      "text/html": [
       "<table class=\"simpletable\">\n",
       "<caption>SARIMAX Results</caption>\n",
       "<tr>\n",
       "  <th>Dep. Variable:</th>           <td>y</td>        <th>  No. Observations:  </th>    <td>366</td>   \n",
       "</tr>\n",
       "<tr>\n",
       "  <th>Model:</th>           <td>SARIMAX(0, 0, 1)</td> <th>  Log Likelihood     </th> <td>-1167.926</td>\n",
       "</tr>\n",
       "<tr>\n",
       "  <th>Date:</th>            <td>Wed, 16 Jun 2021</td> <th>  AIC                </th> <td>2341.852</td> \n",
       "</tr>\n",
       "<tr>\n",
       "  <th>Time:</th>                <td>20:57:35</td>     <th>  BIC                </th> <td>2353.560</td> \n",
       "</tr>\n",
       "<tr>\n",
       "  <th>Sample:</th>                  <td>0</td>        <th>  HQIC               </th> <td>2346.504</td> \n",
       "</tr>\n",
       "<tr>\n",
       "  <th></th>                      <td> - 366</td>      <th>                     </th>     <td> </td>    \n",
       "</tr>\n",
       "<tr>\n",
       "  <th>Covariance Type:</th>        <td>opg</td>       <th>                     </th>     <td> </td>    \n",
       "</tr>\n",
       "</table>\n",
       "<table class=\"simpletable\">\n",
       "<tr>\n",
       "      <td></td>         <th>coef</th>     <th>std err</th>      <th>z</th>      <th>P>|z|</th>  <th>[0.025</th>    <th>0.975]</th>  \n",
       "</tr>\n",
       "<tr>\n",
       "  <th>intercept</th> <td>    2.6958</td> <td>    0.765</td> <td>    3.523</td> <td> 0.000</td> <td>    1.196</td> <td>    4.196</td>\n",
       "</tr>\n",
       "<tr>\n",
       "  <th>ma.L1</th>     <td>    0.3591</td> <td>    0.030</td> <td>   11.856</td> <td> 0.000</td> <td>    0.300</td> <td>    0.418</td>\n",
       "</tr>\n",
       "<tr>\n",
       "  <th>sigma2</th>    <td>   34.5999</td> <td>    1.425</td> <td>   24.289</td> <td> 0.000</td> <td>   31.808</td> <td>   37.392</td>\n",
       "</tr>\n",
       "</table>\n",
       "<table class=\"simpletable\">\n",
       "<tr>\n",
       "  <th>Ljung-Box (L1) (Q):</th>     <td>0.00</td> <th>  Jarque-Bera (JB):  </th> <td>4059.21</td>\n",
       "</tr>\n",
       "<tr>\n",
       "  <th>Prob(Q):</th>                <td>0.98</td> <th>  Prob(JB):          </th>  <td>0.00</td>  \n",
       "</tr>\n",
       "<tr>\n",
       "  <th>Heteroskedasticity (H):</th> <td>0.93</td> <th>  Skew:              </th>  <td>3.22</td>  \n",
       "</tr>\n",
       "<tr>\n",
       "  <th>Prob(H) (two-sided):</th>    <td>0.67</td> <th>  Kurtosis:          </th>  <td>17.99</td> \n",
       "</tr>\n",
       "</table><br/><br/>Warnings:<br/>[1] Covariance matrix calculated using the outer product of gradients (complex-step)."
      ],
      "text/plain": [
       "<class 'statsmodels.iolib.summary.Summary'>\n",
       "\"\"\"\n",
       "                               SARIMAX Results                                \n",
       "==============================================================================\n",
       "Dep. Variable:                      y   No. Observations:                  366\n",
       "Model:               SARIMAX(0, 0, 1)   Log Likelihood               -1167.926\n",
       "Date:                Wed, 16 Jun 2021   AIC                           2341.852\n",
       "Time:                        20:57:35   BIC                           2353.560\n",
       "Sample:                             0   HQIC                          2346.504\n",
       "                                - 366                                         \n",
       "Covariance Type:                  opg                                         \n",
       "==============================================================================\n",
       "                 coef    std err          z      P>|z|      [0.025      0.975]\n",
       "------------------------------------------------------------------------------\n",
       "intercept      2.6958      0.765      3.523      0.000       1.196       4.196\n",
       "ma.L1          0.3591      0.030     11.856      0.000       0.300       0.418\n",
       "sigma2        34.5999      1.425     24.289      0.000      31.808      37.392\n",
       "===================================================================================\n",
       "Ljung-Box (L1) (Q):                   0.00   Jarque-Bera (JB):              4059.21\n",
       "Prob(Q):                              0.98   Prob(JB):                         0.00\n",
       "Heteroskedasticity (H):               0.93   Skew:                             3.22\n",
       "Prob(H) (two-sided):                  0.67   Kurtosis:                        17.99\n",
       "===================================================================================\n",
       "\n",
       "Warnings:\n",
       "[1] Covariance matrix calculated using the outer product of gradients (complex-step).\n",
       "\"\"\""
      ]
     },
     "execution_count": 8,
     "metadata": {},
     "output_type": "execute_result"
    }
   ],
   "source": [
    "stepwise_fit= auto_arima(df_cut['PRECTOT'], trace=True, suppress_warnings=True)\n",
    "\n",
    "stepwise_fit.summary()"
   ]
  },
  {
   "cell_type": "markdown",
   "metadata": {},
   "source": [
    "## Split Data into Training and Test Data \n",
    "**(Using a size of 70% for training and 30% for the test)**"
   ]
  },
  {
   "cell_type": "code",
   "execution_count": 10,
   "metadata": {},
   "outputs": [],
   "source": [
    "train= df_cut.iloc[0:256]\n",
    "test= df_cut.iloc[256:]"
   ]
  },
  {
   "cell_type": "code",
   "execution_count": 16,
   "metadata": {},
   "outputs": [
    {
     "data": {
      "text/plain": [
       "(110, 20)"
      ]
     },
     "execution_count": 16,
     "metadata": {},
     "output_type": "execute_result"
    }
   ],
   "source": [
    "test.shape"
   ]
  },
  {
   "cell_type": "markdown",
   "metadata": {},
   "source": [
    "## Train the model"
   ]
  },
  {
   "cell_type": "code",
   "execution_count": 11,
   "metadata": {},
   "outputs": [
    {
     "data": {
      "text/html": [
       "<table class=\"simpletable\">\n",
       "<caption>ARMA Model Results</caption>\n",
       "<tr>\n",
       "  <th>Dep. Variable:</th>      <td>PRECTOT</td>     <th>  No. Observations:  </th>    <td>256</td>  \n",
       "</tr>\n",
       "<tr>\n",
       "  <th>Model:</th>            <td>ARMA(0, 1)</td>    <th>  Log Likelihood     </th> <td>-793.373</td>\n",
       "</tr>\n",
       "<tr>\n",
       "  <th>Method:</th>             <td>css-mle</td>     <th>  S.D. of innovations</th>   <td>5.365</td> \n",
       "</tr>\n",
       "<tr>\n",
       "  <th>Date:</th>          <td>Wed, 16 Jun 2021</td> <th>  AIC                </th> <td>1592.745</td>\n",
       "</tr>\n",
       "<tr>\n",
       "  <th>Time:</th>              <td>21:06:06</td>     <th>  BIC                </th> <td>1603.381</td>\n",
       "</tr>\n",
       "<tr>\n",
       "  <th>Sample:</th>           <td>01-01-2000</td>    <th>  HQIC               </th> <td>1597.023</td>\n",
       "</tr>\n",
       "<tr>\n",
       "  <th></th>                 <td>- 09-12-2000</td>   <th>                     </th>     <td> </td>   \n",
       "</tr>\n",
       "</table>\n",
       "<table class=\"simpletable\">\n",
       "<tr>\n",
       "        <td></td>           <th>coef</th>     <th>std err</th>      <th>z</th>      <th>P>|z|</th>  <th>[0.025</th>    <th>0.975]</th>  \n",
       "</tr>\n",
       "<tr>\n",
       "  <th>const</th>         <td>    2.5092</td> <td>    0.456</td> <td>    5.506</td> <td> 0.000</td> <td>    1.616</td> <td>    3.402</td>\n",
       "</tr>\n",
       "<tr>\n",
       "  <th>ma.L1.PRECTOT</th> <td>    0.3604</td> <td>    0.064</td> <td>    5.620</td> <td> 0.000</td> <td>    0.235</td> <td>    0.486</td>\n",
       "</tr>\n",
       "</table>\n",
       "<table class=\"simpletable\">\n",
       "<caption>Roots</caption>\n",
       "<tr>\n",
       "    <td></td>   <th>            Real</th>  <th>         Imaginary</th> <th>         Modulus</th>  <th>        Frequency</th>\n",
       "</tr>\n",
       "<tr>\n",
       "  <th>MA.1</th> <td>          -2.7745</td> <td>          +0.0000j</td> <td>           2.7745</td> <td>           0.5000</td>\n",
       "</tr>\n",
       "</table>"
      ],
      "text/plain": [
       "<class 'statsmodels.iolib.summary.Summary'>\n",
       "\"\"\"\n",
       "                              ARMA Model Results                              \n",
       "==============================================================================\n",
       "Dep. Variable:                PRECTOT   No. Observations:                  256\n",
       "Model:                     ARMA(0, 1)   Log Likelihood                -793.373\n",
       "Method:                       css-mle   S.D. of innovations              5.365\n",
       "Date:                Wed, 16 Jun 2021   AIC                           1592.745\n",
       "Time:                        21:06:06   BIC                           1603.381\n",
       "Sample:                    01-01-2000   HQIC                          1597.023\n",
       "                         - 09-12-2000                                         \n",
       "=================================================================================\n",
       "                    coef    std err          z      P>|z|      [0.025      0.975]\n",
       "---------------------------------------------------------------------------------\n",
       "const             2.5092      0.456      5.506      0.000       1.616       3.402\n",
       "ma.L1.PRECTOT     0.3604      0.064      5.620      0.000       0.235       0.486\n",
       "                                    Roots                                    \n",
       "=============================================================================\n",
       "                  Real          Imaginary           Modulus         Frequency\n",
       "-----------------------------------------------------------------------------\n",
       "MA.1           -2.7745           +0.0000j            2.7745            0.5000\n",
       "-----------------------------------------------------------------------------\n",
       "\"\"\""
      ]
     },
     "execution_count": 11,
     "metadata": {},
     "output_type": "execute_result"
    }
   ],
   "source": [
    "model=ARIMA(train['PRECTOT'], order=(0,0,1))\n",
    "model=model.fit()\n",
    "model.summary()"
   ]
  },
  {
   "cell_type": "markdown",
   "metadata": {},
   "source": [
    "## Make predictions on the training set"
   ]
  },
  {
   "cell_type": "code",
   "execution_count": 12,
   "metadata": {},
   "outputs": [
    {
     "name": "stdout",
     "output_type": "stream",
     "text": [
      "2000-09-13    2.300090\n",
      "2000-09-14    2.509227\n",
      "2000-09-15    2.509227\n",
      "2000-09-16    2.509227\n",
      "2000-09-17    2.509227\n",
      "                ...   \n",
      "2000-12-27    2.509227\n",
      "2000-12-28    2.509227\n",
      "2000-12-29    2.509227\n",
      "2000-12-30    2.509227\n",
      "2000-12-31    2.509227\n",
      "Freq: D, Length: 110, dtype: float64\n"
     ]
    }
   ],
   "source": [
    "start=len(train)\n",
    "end=len(train)+len(test)-1\n",
    "pred=model.predict(start=start, end=end, typ='levels')\n",
    "print(pred)"
   ]
  },
  {
   "cell_type": "code",
   "execution_count": 15,
   "metadata": {},
   "outputs": [
    {
     "data": {
      "text/plain": [
       "<AxesSubplot:xlabel='date'>"
      ]
     },
     "execution_count": 15,
     "metadata": {},
     "output_type": "execute_result"
    },
    {
     "data": {
      "image/png": "[encoded data removed]",
      "text/plain": [
       "<Figure size 432x288 with 1 Axes>"
      ]
     },
     "metadata": {
      "needs_background": "light"
     },
     "output_type": "display_data"
    }
   ],
   "source": [
    "pred.plot(legend=True)\n",
    "test['PRECTOT'].plot(legend=True)"
   ]
  },
  {
   "cell_type": "markdown",
   "metadata": {},
   "source": [
    "I tried to build an ARIMA model. I just followed the steps of a youtube tutorial. I didn't put any time in understanding the model, because I didn't had the time to. I'm not sure where I went wrong, due to my understanding of the model. "
   ]
  },
  {
   "cell_type": "code",
   "execution_count": null,
   "metadata": {},
   "outputs": [],
   "source": []
  }
 ],
 "metadata": {
  "kernelspec": {
   "display_name": "Python 3",
   "language": "python",
   "name": "python3"
  },
  "language_info": {
   "codemirror_mode": {
    "name": "ipython",
    "version": 3
   },
   "file_extension": ".py",
   "mimetype": "text/x-python",
   "name": "python",
   "nbconvert_exporter": "python",
   "pygments_lexer": "ipython3",
   "version": "3.8.5"
  }
 },
 "nbformat": 4,
 "nbformat_minor": 4
}
