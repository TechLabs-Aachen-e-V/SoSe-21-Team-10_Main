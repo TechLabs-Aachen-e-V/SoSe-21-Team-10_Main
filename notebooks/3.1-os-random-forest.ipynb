{
 "cells": [
  {
   "cell_type": "code",
   "execution_count": 1,
   "metadata": {},
   "outputs": [],
   "source": [
    "import numpy as np\n",
    "import pandas as pd\n",
    "import matplotlib.pyplot as plt\n",
    "from pathlib import Path"
   ]
  },
  {
   "cell_type": "code",
   "execution_count": 2,
   "metadata": {},
   "outputs": [],
   "source": [
    "path_1 = Path('/Users/oleseifert/Documents/Techlabs/SoSe-21-Team-10_Main/data/raw')\n",
    "df = pd.read_csv(path_1.joinpath('2000-2002.csv'), index_col='date', parse_dates=True)"
   ]
  },
  {
   "cell_type": "code",
   "execution_count": 3,
   "metadata": {},
   "outputs": [],
   "source": [
    "# drop the 'fips' column, because it is useless\n",
    "df = df.drop(['fips'], axis=1)"
   ]
  },
  {
   "cell_type": "markdown",
   "metadata": {},
   "source": [
    "# Intrpolate the data"
   ]
  },
  {
   "cell_type": "code",
   "execution_count": 4,
   "metadata": {},
   "outputs": [],
   "source": [
    "df.interpolate(method='time', inplace=True)\n",
    "df.dropna(how='any', inplace=True)"
   ]
  },
  {
   "cell_type": "markdown",
   "metadata": {},
   "source": [
    "# Transform the problem into a supervised learning problem"
   ]
  },
  {
   "cell_type": "code",
   "execution_count": 5,
   "metadata": {},
   "outputs": [],
   "source": [
    "df['target'] = df.score.shift(-1)\n",
    "df.dropna(inplace=True)"
   ]
  },
  {
   "cell_type": "code",
   "execution_count": 6,
   "metadata": {},
   "outputs": [],
   "source": [
    "from sklearn.ensemble import RandomForestRegressor"
   ]
  },
  {
   "cell_type": "markdown",
   "metadata": {},
   "source": [
    "# Split the data into train and test set"
   ]
  },
  {
   "cell_type": "code",
   "execution_count": 7,
   "metadata": {},
   "outputs": [],
   "source": [
    "X_train = df.drop(['target'], axis = 1).iloc[0:764]\n",
    "X_test = df.drop(['target'], axis = 1).iloc[764:]\n",
    "y_train = df.target.iloc[0:764]\n",
    "y_test = df.target.iloc[764:]"
   ]
  },
  {
   "cell_type": "markdown",
   "metadata": {},
   "source": [
    "# Create the model"
   ]
  },
  {
   "cell_type": "code",
   "execution_count": 8,
   "metadata": {},
   "outputs": [
    {
     "data": {
      "text/plain": [
       "RandomForestRegressor()"
      ]
     },
     "execution_count": 8,
     "metadata": {},
     "output_type": "execute_result"
    }
   ],
   "source": [
    "model = RandomForestRegressor()\n",
    "model.fit(X_train, y_train)"
   ]
  },
  {
   "cell_type": "code",
   "execution_count": 9,
   "metadata": {},
   "outputs": [
    {
     "data": {
      "text/plain": [
       "0.9924300305906144"
      ]
     },
     "execution_count": 9,
     "metadata": {},
     "output_type": "execute_result"
    }
   ],
   "source": [
    "model.score(X_test, y_test)"
   ]
  },
  {
   "cell_type": "code",
   "execution_count": 10,
   "metadata": {},
   "outputs": [],
   "source": [
    "prediction = model.predict(X_test)"
   ]
  },
  {
   "cell_type": "code",
   "execution_count": 11,
   "metadata": {},
   "outputs": [
    {
     "data": {
      "text/plain": [
       "[<matplotlib.lines.Line2D at 0x7f9c722dd700>]"
      ]
     },
     "execution_count": 11,
     "metadata": {},
     "output_type": "execute_result"
    },
    {
     "data": {
      "image/png": "[encoded data removed]",
      "text/plain": [
       "<Figure size 1224x360 with 1 Axes>"
      ]
     },
     "metadata": {
      "needs_background": "light"
     },
     "output_type": "display_data"
    }
   ],
   "source": [
    "plt.figure(figsize=(17,5))\n",
    "plt.plot(df.index[764:], y_test, color='blue')\n",
    "plt.plot(df.index[764:], prediction, color='red')"
   ]
  },
  {
   "cell_type": "markdown",
   "metadata": {},
   "source": [
    "# Validation of the model"
   ]
  },
  {
   "cell_type": "code",
   "execution_count": 12,
   "metadata": {},
   "outputs": [],
   "source": [
    "# Import the validation dataframe\n",
    "path_2 = Path('/Users/oleseifert/Documents/Techlabs/SoSe-21-Team-10_Main/data/raw')\n",
    "df_validation = pd.read_csv(path_2.joinpath('validation_2.csv'), index_col='date', parse_dates=True)"
   ]
  },
  {
   "cell_type": "code",
   "execution_count": 20,
   "metadata": {},
   "outputs": [],
   "source": [
    "# Drop the fips column\n",
    "df_validation = df_validation[df_validation['fips'] == 1001]\n",
    "df_validation.drop(['fips'], axis=1, inplace=True)"
   ]
  },
  {
   "cell_type": "code",
   "execution_count": 14,
   "metadata": {},
   "outputs": [
    {
     "data": {
      "text/html": [
       "<div>\n",
       "<style scoped>\n",
       "    .dataframe tbody tr th:only-of-type {\n",
       "        vertical-align: middle;\n",
       "    }\n",
       "\n",
       "    .dataframe tbody tr th {\n",
       "        vertical-align: top;\n",
       "    }\n",
       "\n",
       "    .dataframe thead th {\n",
       "        text-align: right;\n",
       "    }\n",
       "</style>\n",
       "<table border=\"1\" class=\"dataframe\">\n",
       "  <thead>\n",
       "    <tr style=\"text-align: right;\">\n",
       "      <th></th>\n",
       "      <th>fips</th>\n",
       "      <th>PRECTOT</th>\n",
       "      <th>PS</th>\n",
       "      <th>QV2M</th>\n",
       "      <th>T2M</th>\n",
       "      <th>T2MDEW</th>\n",
       "      <th>T2MWET</th>\n",
       "      <th>T2M_MAX</th>\n",
       "      <th>T2M_MIN</th>\n",
       "      <th>T2M_RANGE</th>\n",
       "      <th>TS</th>\n",
       "      <th>WS10M</th>\n",
       "      <th>WS10M_MAX</th>\n",
       "      <th>WS10M_MIN</th>\n",
       "      <th>WS10M_RANGE</th>\n",
       "      <th>WS50M</th>\n",
       "      <th>WS50M_MAX</th>\n",
       "      <th>WS50M_MIN</th>\n",
       "      <th>WS50M_RANGE</th>\n",
       "      <th>score</th>\n",
       "    </tr>\n",
       "    <tr>\n",
       "      <th>date</th>\n",
       "      <th></th>\n",
       "      <th></th>\n",
       "      <th></th>\n",
       "      <th></th>\n",
       "      <th></th>\n",
       "      <th></th>\n",
       "      <th></th>\n",
       "      <th></th>\n",
       "      <th></th>\n",
       "      <th></th>\n",
       "      <th></th>\n",
       "      <th></th>\n",
       "      <th></th>\n",
       "      <th></th>\n",
       "      <th></th>\n",
       "      <th></th>\n",
       "      <th></th>\n",
       "      <th></th>\n",
       "      <th></th>\n",
       "      <th></th>\n",
       "    </tr>\n",
       "  </thead>\n",
       "  <tbody>\n",
       "    <tr>\n",
       "      <th>2006-01-01</th>\n",
       "      <td>1001</td>\n",
       "      <td>2.57</td>\n",
       "      <td>99.84</td>\n",
       "      <td>10.20</td>\n",
       "      <td>14.53</td>\n",
       "      <td>13.60</td>\n",
       "      <td>13.60</td>\n",
       "      <td>19.88</td>\n",
       "      <td>6.64</td>\n",
       "      <td>13.23</td>\n",
       "      <td>14.48</td>\n",
       "      <td>2.52</td>\n",
       "      <td>3.33</td>\n",
       "      <td>1.87</td>\n",
       "      <td>1.46</td>\n",
       "      <td>5.23</td>\n",
       "      <td>6.99</td>\n",
       "      <td>3.37</td>\n",
       "      <td>3.61</td>\n",
       "      <td>NaN</td>\n",
       "    </tr>\n",
       "    <tr>\n",
       "      <th>2006-01-02</th>\n",
       "      <td>1001</td>\n",
       "      <td>3.79</td>\n",
       "      <td>99.46</td>\n",
       "      <td>11.83</td>\n",
       "      <td>19.04</td>\n",
       "      <td>16.23</td>\n",
       "      <td>16.23</td>\n",
       "      <td>24.02</td>\n",
       "      <td>11.73</td>\n",
       "      <td>12.29</td>\n",
       "      <td>18.83</td>\n",
       "      <td>3.77</td>\n",
       "      <td>4.77</td>\n",
       "      <td>2.54</td>\n",
       "      <td>2.23</td>\n",
       "      <td>7.48</td>\n",
       "      <td>8.14</td>\n",
       "      <td>5.78</td>\n",
       "      <td>2.36</td>\n",
       "      <td>NaN</td>\n",
       "    </tr>\n",
       "    <tr>\n",
       "      <th>2006-01-03</th>\n",
       "      <td>1001</td>\n",
       "      <td>0.00</td>\n",
       "      <td>100.08</td>\n",
       "      <td>6.56</td>\n",
       "      <td>10.71</td>\n",
       "      <td>7.70</td>\n",
       "      <td>7.70</td>\n",
       "      <td>16.06</td>\n",
       "      <td>6.83</td>\n",
       "      <td>9.23</td>\n",
       "      <td>9.73</td>\n",
       "      <td>2.07</td>\n",
       "      <td>2.74</td>\n",
       "      <td>0.87</td>\n",
       "      <td>1.87</td>\n",
       "      <td>3.71</td>\n",
       "      <td>5.26</td>\n",
       "      <td>1.20</td>\n",
       "      <td>4.06</td>\n",
       "      <td>0.0</td>\n",
       "    </tr>\n",
       "    <tr>\n",
       "      <th>2006-01-04</th>\n",
       "      <td>1001</td>\n",
       "      <td>0.00</td>\n",
       "      <td>100.07</td>\n",
       "      <td>7.44</td>\n",
       "      <td>11.04</td>\n",
       "      <td>9.37</td>\n",
       "      <td>9.37</td>\n",
       "      <td>17.98</td>\n",
       "      <td>4.40</td>\n",
       "      <td>13.58</td>\n",
       "      <td>10.31</td>\n",
       "      <td>1.83</td>\n",
       "      <td>2.65</td>\n",
       "      <td>1.10</td>\n",
       "      <td>1.54</td>\n",
       "      <td>3.72</td>\n",
       "      <td>6.15</td>\n",
       "      <td>1.51</td>\n",
       "      <td>4.64</td>\n",
       "      <td>NaN</td>\n",
       "    </tr>\n",
       "    <tr>\n",
       "      <th>2006-01-05</th>\n",
       "      <td>1001</td>\n",
       "      <td>0.00</td>\n",
       "      <td>99.87</td>\n",
       "      <td>5.49</td>\n",
       "      <td>8.90</td>\n",
       "      <td>4.76</td>\n",
       "      <td>4.78</td>\n",
       "      <td>12.91</td>\n",
       "      <td>3.61</td>\n",
       "      <td>9.30</td>\n",
       "      <td>8.86</td>\n",
       "      <td>3.12</td>\n",
       "      <td>4.74</td>\n",
       "      <td>1.71</td>\n",
       "      <td>3.03</td>\n",
       "      <td>5.85</td>\n",
       "      <td>7.57</td>\n",
       "      <td>4.21</td>\n",
       "      <td>3.36</td>\n",
       "      <td>NaN</td>\n",
       "    </tr>\n",
       "  </tbody>\n",
       "</table>\n",
       "</div>"
      ],
      "text/plain": [
       "            fips  PRECTOT      PS   QV2M    T2M  T2MDEW  T2MWET  T2M_MAX  \\\n",
       "date                                                                       \n",
       "2006-01-01  1001     2.57   99.84  10.20  14.53   13.60   13.60    19.88   \n",
       "2006-01-02  1001     3.79   99.46  11.83  19.04   16.23   16.23    24.02   \n",
       "2006-01-03  1001     0.00  100.08   6.56  10.71    7.70    7.70    16.06   \n",
       "2006-01-04  1001     0.00  100.07   7.44  11.04    9.37    9.37    17.98   \n",
       "2006-01-05  1001     0.00   99.87   5.49   8.90    4.76    4.78    12.91   \n",
       "\n",
       "            T2M_MIN  T2M_RANGE     TS  WS10M  WS10M_MAX  WS10M_MIN  \\\n",
       "date                                                                 \n",
       "2006-01-01     6.64      13.23  14.48   2.52       3.33       1.87   \n",
       "2006-01-02    11.73      12.29  18.83   3.77       4.77       2.54   \n",
       "2006-01-03     6.83       9.23   9.73   2.07       2.74       0.87   \n",
       "2006-01-04     4.40      13.58  10.31   1.83       2.65       1.10   \n",
       "2006-01-05     3.61       9.30   8.86   3.12       4.74       1.71   \n",
       "\n",
       "            WS10M_RANGE  WS50M  WS50M_MAX  WS50M_MIN  WS50M_RANGE  score  \n",
       "date                                                                      \n",
       "2006-01-01         1.46   5.23       6.99       3.37         3.61    NaN  \n",
       "2006-01-02         2.23   7.48       8.14       5.78         2.36    NaN  \n",
       "2006-01-03         1.87   3.71       5.26       1.20         4.06    0.0  \n",
       "2006-01-04         1.54   3.72       6.15       1.51         4.64    NaN  \n",
       "2006-01-05         3.03   5.85       7.57       4.21         3.36    NaN  "
      ]
     },
     "execution_count": 14,
     "metadata": {},
     "output_type": "execute_result"
    }
   ],
   "source": [
    "df_validation.head()"
   ]
  },
  {
   "cell_type": "code",
   "execution_count": 15,
   "metadata": {},
   "outputs": [
    {
     "data": {
      "text/html": [
       "<div>\n",
       "<style scoped>\n",
       "    .dataframe tbody tr th:only-of-type {\n",
       "        vertical-align: middle;\n",
       "    }\n",
       "\n",
       "    .dataframe tbody tr th {\n",
       "        vertical-align: top;\n",
       "    }\n",
       "\n",
       "    .dataframe thead th {\n",
       "        text-align: right;\n",
       "    }\n",
       "</style>\n",
       "<table border=\"1\" class=\"dataframe\">\n",
       "  <thead>\n",
       "    <tr style=\"text-align: right;\">\n",
       "      <th></th>\n",
       "      <th>fips</th>\n",
       "      <th>PRECTOT</th>\n",
       "      <th>PS</th>\n",
       "      <th>QV2M</th>\n",
       "      <th>T2M</th>\n",
       "      <th>T2MDEW</th>\n",
       "      <th>T2MWET</th>\n",
       "      <th>T2M_MAX</th>\n",
       "      <th>T2M_MIN</th>\n",
       "      <th>T2M_RANGE</th>\n",
       "      <th>TS</th>\n",
       "      <th>WS10M</th>\n",
       "      <th>WS10M_MAX</th>\n",
       "      <th>WS10M_MIN</th>\n",
       "      <th>WS10M_RANGE</th>\n",
       "      <th>WS50M</th>\n",
       "      <th>WS50M_MAX</th>\n",
       "      <th>WS50M_MIN</th>\n",
       "      <th>WS50M_RANGE</th>\n",
       "      <th>score</th>\n",
       "    </tr>\n",
       "    <tr>\n",
       "      <th>date</th>\n",
       "      <th></th>\n",
       "      <th></th>\n",
       "      <th></th>\n",
       "      <th></th>\n",
       "      <th></th>\n",
       "      <th></th>\n",
       "      <th></th>\n",
       "      <th></th>\n",
       "      <th></th>\n",
       "      <th></th>\n",
       "      <th></th>\n",
       "      <th></th>\n",
       "      <th></th>\n",
       "      <th></th>\n",
       "      <th></th>\n",
       "      <th></th>\n",
       "      <th></th>\n",
       "      <th></th>\n",
       "      <th></th>\n",
       "      <th></th>\n",
       "    </tr>\n",
       "  </thead>\n",
       "  <tbody>\n",
       "    <tr>\n",
       "      <th>2006-02-24</th>\n",
       "      <td>1001</td>\n",
       "      <td>0.11</td>\n",
       "      <td>100.97</td>\n",
       "      <td>5.14</td>\n",
       "      <td>9.74</td>\n",
       "      <td>4.09</td>\n",
       "      <td>4.11</td>\n",
       "      <td>17.49</td>\n",
       "      <td>2.95</td>\n",
       "      <td>14.54</td>\n",
       "      <td>9.75</td>\n",
       "      <td>2.25</td>\n",
       "      <td>3.34</td>\n",
       "      <td>1.40</td>\n",
       "      <td>1.94</td>\n",
       "      <td>4.91</td>\n",
       "      <td>6.64</td>\n",
       "      <td>1.82</td>\n",
       "      <td>4.81</td>\n",
       "      <td>NaN</td>\n",
       "    </tr>\n",
       "    <tr>\n",
       "      <th>2006-02-25</th>\n",
       "      <td>1001</td>\n",
       "      <td>40.23</td>\n",
       "      <td>100.38</td>\n",
       "      <td>7.40</td>\n",
       "      <td>10.28</td>\n",
       "      <td>9.47</td>\n",
       "      <td>9.47</td>\n",
       "      <td>12.98</td>\n",
       "      <td>8.35</td>\n",
       "      <td>4.63</td>\n",
       "      <td>10.25</td>\n",
       "      <td>2.86</td>\n",
       "      <td>4.35</td>\n",
       "      <td>1.37</td>\n",
       "      <td>2.97</td>\n",
       "      <td>5.14</td>\n",
       "      <td>7.35</td>\n",
       "      <td>3.50</td>\n",
       "      <td>3.84</td>\n",
       "      <td>NaN</td>\n",
       "    </tr>\n",
       "    <tr>\n",
       "      <th>2006-02-26</th>\n",
       "      <td>1001</td>\n",
       "      <td>0.33</td>\n",
       "      <td>101.07</td>\n",
       "      <td>3.62</td>\n",
       "      <td>5.20</td>\n",
       "      <td>-0.99</td>\n",
       "      <td>-0.93</td>\n",
       "      <td>10.88</td>\n",
       "      <td>-2.19</td>\n",
       "      <td>13.07</td>\n",
       "      <td>5.23</td>\n",
       "      <td>3.53</td>\n",
       "      <td>4.82</td>\n",
       "      <td>1.90</td>\n",
       "      <td>2.92</td>\n",
       "      <td>6.38</td>\n",
       "      <td>7.36</td>\n",
       "      <td>4.84</td>\n",
       "      <td>2.52</td>\n",
       "      <td>NaN</td>\n",
       "    </tr>\n",
       "    <tr>\n",
       "      <th>2006-02-27</th>\n",
       "      <td>1001</td>\n",
       "      <td>0.00</td>\n",
       "      <td>101.02</td>\n",
       "      <td>3.77</td>\n",
       "      <td>4.94</td>\n",
       "      <td>-0.58</td>\n",
       "      <td>-0.54</td>\n",
       "      <td>14.45</td>\n",
       "      <td>-4.46</td>\n",
       "      <td>18.91</td>\n",
       "      <td>5.09</td>\n",
       "      <td>1.91</td>\n",
       "      <td>2.49</td>\n",
       "      <td>0.82</td>\n",
       "      <td>1.66</td>\n",
       "      <td>4.31</td>\n",
       "      <td>7.10</td>\n",
       "      <td>1.29</td>\n",
       "      <td>5.81</td>\n",
       "      <td>NaN</td>\n",
       "    </tr>\n",
       "    <tr>\n",
       "      <th>2006-02-28</th>\n",
       "      <td>1001</td>\n",
       "      <td>0.00</td>\n",
       "      <td>100.44</td>\n",
       "      <td>6.78</td>\n",
       "      <td>10.28</td>\n",
       "      <td>7.91</td>\n",
       "      <td>7.91</td>\n",
       "      <td>19.15</td>\n",
       "      <td>1.67</td>\n",
       "      <td>17.48</td>\n",
       "      <td>10.29</td>\n",
       "      <td>2.35</td>\n",
       "      <td>3.15</td>\n",
       "      <td>1.67</td>\n",
       "      <td>1.47</td>\n",
       "      <td>5.09</td>\n",
       "      <td>6.61</td>\n",
       "      <td>2.76</td>\n",
       "      <td>3.86</td>\n",
       "      <td>0.0</td>\n",
       "    </tr>\n",
       "  </tbody>\n",
       "</table>\n",
       "</div>"
      ],
      "text/plain": [
       "            fips  PRECTOT      PS  QV2M    T2M  T2MDEW  T2MWET  T2M_MAX  \\\n",
       "date                                                                      \n",
       "2006-02-24  1001     0.11  100.97  5.14   9.74    4.09    4.11    17.49   \n",
       "2006-02-25  1001    40.23  100.38  7.40  10.28    9.47    9.47    12.98   \n",
       "2006-02-26  1001     0.33  101.07  3.62   5.20   -0.99   -0.93    10.88   \n",
       "2006-02-27  1001     0.00  101.02  3.77   4.94   -0.58   -0.54    14.45   \n",
       "2006-02-28  1001     0.00  100.44  6.78  10.28    7.91    7.91    19.15   \n",
       "\n",
       "            T2M_MIN  T2M_RANGE     TS  WS10M  WS10M_MAX  WS10M_MIN  \\\n",
       "date                                                                 \n",
       "2006-02-24     2.95      14.54   9.75   2.25       3.34       1.40   \n",
       "2006-02-25     8.35       4.63  10.25   2.86       4.35       1.37   \n",
       "2006-02-26    -2.19      13.07   5.23   3.53       4.82       1.90   \n",
       "2006-02-27    -4.46      18.91   5.09   1.91       2.49       0.82   \n",
       "2006-02-28     1.67      17.48  10.29   2.35       3.15       1.67   \n",
       "\n",
       "            WS10M_RANGE  WS50M  WS50M_MAX  WS50M_MIN  WS50M_RANGE  score  \n",
       "date                                                                      \n",
       "2006-02-24         1.94   4.91       6.64       1.82         4.81    NaN  \n",
       "2006-02-25         2.97   5.14       7.35       3.50         3.84    NaN  \n",
       "2006-02-26         2.92   6.38       7.36       4.84         2.52    NaN  \n",
       "2006-02-27         1.66   4.31       7.10       1.29         5.81    NaN  \n",
       "2006-02-28         1.47   5.09       6.61       2.76         3.86    0.0  "
      ]
     },
     "execution_count": 15,
     "metadata": {},
     "output_type": "execute_result"
    }
   ],
   "source": [
    "df_validation.tail()"
   ]
  },
  {
   "cell_type": "markdown",
   "metadata": {},
   "source": [
    "## Interpolate the validation Dataframe"
   ]
  },
  {
   "cell_type": "code",
   "execution_count": 21,
   "metadata": {},
   "outputs": [],
   "source": [
    "df_validation.interpolate(method='time', inplace=True)\n",
    "df_validation.dropna(how='any', inplace=True)"
   ]
  },
  {
   "cell_type": "markdown",
   "metadata": {},
   "source": [
    "## Transform the data into a supervised learning problem"
   ]
  },
  {
   "cell_type": "code",
   "execution_count": 22,
   "metadata": {},
   "outputs": [],
   "source": [
    "df_validation['target'] = df_validation.score.shift(-1)\n",
    "df_validation.dropna(inplace=True)"
   ]
  },
  {
   "cell_type": "code",
   "execution_count": 28,
   "metadata": {},
   "outputs": [],
   "source": [
    "validation_data = df_validation.drop(['target'], axis=1)\n",
    "validation_label = df_validation.target"
   ]
  },
  {
   "cell_type": "code",
   "execution_count": 27,
   "metadata": {},
   "outputs": [],
   "source": [
    "validation_predict = model.predict(validation_data)"
   ]
  },
  {
   "cell_type": "code",
   "execution_count": 38,
   "metadata": {},
   "outputs": [
    {
     "data": {
      "text/plain": [
       "[<matplotlib.lines.Line2D at 0x7f9c55247cd0>]"
      ]
     },
     "execution_count": 38,
     "metadata": {},
     "output_type": "execute_result"
    },
    {
     "data": {
      "image/png": "[encoded data removed]",
      "text/plain": [
       "<Figure size 1224x360 with 1 Axes>"
      ]
     },
     "metadata": {
      "needs_background": "light"
     },
     "output_type": "display_data"
    }
   ],
   "source": [
    "plt.figure(figsize=(17,5))\n",
    "plt.plot(df_validation.index, validation_label, color='blue')\n",
    "plt.plot(df_validation.index, validation_predict, color='red')"
   ]
  },
  {
   "cell_type": "code",
   "execution_count": 25,
   "metadata": {},
   "outputs": [],
   "source": [
    "from sklearn.metrics import accuracy_score"
   ]
  },
  {
   "cell_type": "code",
   "execution_count": 44,
   "metadata": {},
   "outputs": [
    {
     "ename": "ValueError",
     "evalue": "continuous is not supported",
     "output_type": "error",
     "traceback": [
      "\u001b[0;31m---------------------------------------------------------------------------\u001b[0m",
      "\u001b[0;31mValueError\u001b[0m                                Traceback (most recent call last)",
      "\u001b[0;32m<ipython-input-44-6b5f93359bba>\u001b[0m in \u001b[0;36m<module>\u001b[0;34m\u001b[0m\n\u001b[0;32m----> 1\u001b[0;31m \u001b[0maccuracy_score\u001b[0m\u001b[0;34m(\u001b[0m\u001b[0mvalidation_predict\u001b[0m\u001b[0;34m,\u001b[0m \u001b[0mvalidation_label\u001b[0m\u001b[0;34m)\u001b[0m\u001b[0;34m\u001b[0m\u001b[0;34m\u001b[0m\u001b[0m\n\u001b[0m",
      "\u001b[0;32m~/opt/anaconda3/lib/python3.8/site-packages/sklearn/utils/validation.py\u001b[0m in \u001b[0;36minner_f\u001b[0;34m(*args, **kwargs)\u001b[0m\n\u001b[1;32m     70\u001b[0m                           FutureWarning)\n\u001b[1;32m     71\u001b[0m         \u001b[0mkwargs\u001b[0m\u001b[0;34m.\u001b[0m\u001b[0mupdate\u001b[0m\u001b[0;34m(\u001b[0m\u001b[0;34m{\u001b[0m\u001b[0mk\u001b[0m\u001b[0;34m:\u001b[0m \u001b[0marg\u001b[0m \u001b[0;32mfor\u001b[0m \u001b[0mk\u001b[0m\u001b[0;34m,\u001b[0m \u001b[0marg\u001b[0m \u001b[0;32min\u001b[0m \u001b[0mzip\u001b[0m\u001b[0;34m(\u001b[0m\u001b[0msig\u001b[0m\u001b[0;34m.\u001b[0m\u001b[0mparameters\u001b[0m\u001b[0;34m,\u001b[0m \u001b[0margs\u001b[0m\u001b[0;34m)\u001b[0m\u001b[0;34m}\u001b[0m\u001b[0;34m)\u001b[0m\u001b[0;34m\u001b[0m\u001b[0;34m\u001b[0m\u001b[0m\n\u001b[0;32m---> 72\u001b[0;31m         \u001b[0;32mreturn\u001b[0m \u001b[0mf\u001b[0m\u001b[0;34m(\u001b[0m\u001b[0;34m**\u001b[0m\u001b[0mkwargs\u001b[0m\u001b[0;34m)\u001b[0m\u001b[0;34m\u001b[0m\u001b[0;34m\u001b[0m\u001b[0m\n\u001b[0m\u001b[1;32m     73\u001b[0m     \u001b[0;32mreturn\u001b[0m \u001b[0minner_f\u001b[0m\u001b[0;34m\u001b[0m\u001b[0;34m\u001b[0m\u001b[0m\n\u001b[1;32m     74\u001b[0m \u001b[0;34m\u001b[0m\u001b[0m\n",
      "\u001b[0;32m~/opt/anaconda3/lib/python3.8/site-packages/sklearn/metrics/_classification.py\u001b[0m in \u001b[0;36maccuracy_score\u001b[0;34m(y_true, y_pred, normalize, sample_weight)\u001b[0m\n\u001b[1;32m    185\u001b[0m \u001b[0;34m\u001b[0m\u001b[0m\n\u001b[1;32m    186\u001b[0m     \u001b[0;31m# Compute accuracy for each possible representation\u001b[0m\u001b[0;34m\u001b[0m\u001b[0;34m\u001b[0m\u001b[0;34m\u001b[0m\u001b[0m\n\u001b[0;32m--> 187\u001b[0;31m     \u001b[0my_type\u001b[0m\u001b[0;34m,\u001b[0m \u001b[0my_true\u001b[0m\u001b[0;34m,\u001b[0m \u001b[0my_pred\u001b[0m \u001b[0;34m=\u001b[0m \u001b[0m_check_targets\u001b[0m\u001b[0;34m(\u001b[0m\u001b[0my_true\u001b[0m\u001b[0;34m,\u001b[0m \u001b[0my_pred\u001b[0m\u001b[0;34m)\u001b[0m\u001b[0;34m\u001b[0m\u001b[0;34m\u001b[0m\u001b[0m\n\u001b[0m\u001b[1;32m    188\u001b[0m     \u001b[0mcheck_consistent_length\u001b[0m\u001b[0;34m(\u001b[0m\u001b[0my_true\u001b[0m\u001b[0;34m,\u001b[0m \u001b[0my_pred\u001b[0m\u001b[0;34m,\u001b[0m \u001b[0msample_weight\u001b[0m\u001b[0;34m)\u001b[0m\u001b[0;34m\u001b[0m\u001b[0;34m\u001b[0m\u001b[0m\n\u001b[1;32m    189\u001b[0m     \u001b[0;32mif\u001b[0m \u001b[0my_type\u001b[0m\u001b[0;34m.\u001b[0m\u001b[0mstartswith\u001b[0m\u001b[0;34m(\u001b[0m\u001b[0;34m'multilabel'\u001b[0m\u001b[0;34m)\u001b[0m\u001b[0;34m:\u001b[0m\u001b[0;34m\u001b[0m\u001b[0;34m\u001b[0m\u001b[0m\n",
      "\u001b[0;32m~/opt/anaconda3/lib/python3.8/site-packages/sklearn/metrics/_classification.py\u001b[0m in \u001b[0;36m_check_targets\u001b[0;34m(y_true, y_pred)\u001b[0m\n\u001b[1;32m     96\u001b[0m     \u001b[0;31m# No metrics support \"multiclass-multioutput\" format\u001b[0m\u001b[0;34m\u001b[0m\u001b[0;34m\u001b[0m\u001b[0;34m\u001b[0m\u001b[0m\n\u001b[1;32m     97\u001b[0m     \u001b[0;32mif\u001b[0m \u001b[0;34m(\u001b[0m\u001b[0my_type\u001b[0m \u001b[0;32mnot\u001b[0m \u001b[0;32min\u001b[0m \u001b[0;34m[\u001b[0m\u001b[0;34m\"binary\"\u001b[0m\u001b[0;34m,\u001b[0m \u001b[0;34m\"multiclass\"\u001b[0m\u001b[0;34m,\u001b[0m \u001b[0;34m\"multilabel-indicator\"\u001b[0m\u001b[0;34m]\u001b[0m\u001b[0;34m)\u001b[0m\u001b[0;34m:\u001b[0m\u001b[0;34m\u001b[0m\u001b[0;34m\u001b[0m\u001b[0m\n\u001b[0;32m---> 98\u001b[0;31m         \u001b[0;32mraise\u001b[0m \u001b[0mValueError\u001b[0m\u001b[0;34m(\u001b[0m\u001b[0;34m\"{0} is not supported\"\u001b[0m\u001b[0;34m.\u001b[0m\u001b[0mformat\u001b[0m\u001b[0;34m(\u001b[0m\u001b[0my_type\u001b[0m\u001b[0;34m)\u001b[0m\u001b[0;34m)\u001b[0m\u001b[0;34m\u001b[0m\u001b[0;34m\u001b[0m\u001b[0m\n\u001b[0m\u001b[1;32m     99\u001b[0m \u001b[0;34m\u001b[0m\u001b[0m\n\u001b[1;32m    100\u001b[0m     \u001b[0;32mif\u001b[0m \u001b[0my_type\u001b[0m \u001b[0;32min\u001b[0m \u001b[0;34m[\u001b[0m\u001b[0;34m\"binary\"\u001b[0m\u001b[0;34m,\u001b[0m \u001b[0;34m\"multiclass\"\u001b[0m\u001b[0;34m]\u001b[0m\u001b[0;34m:\u001b[0m\u001b[0;34m\u001b[0m\u001b[0;34m\u001b[0m\u001b[0m\n",
      "\u001b[0;31mValueError\u001b[0m: continuous is not supported"
     ]
    }
   ],
   "source": [
    "accuracy_score(validation_predict, validation_label)"
   ]
  },
  {
   "cell_type": "code",
   "execution_count": 42,
   "metadata": {},
   "outputs": [
    {
     "data": {
      "text/plain": [
       "(55,)"
      ]
     },
     "execution_count": 42,
     "metadata": {},
     "output_type": "execute_result"
    }
   ],
   "source": [
    "validation_label.shape"
   ]
  },
  {
   "cell_type": "code",
   "execution_count": 45,
   "metadata": {},
   "outputs": [],
   "source": [
    "# Potential problem: fips column has different entries. So at the moment we have a model which predicts and does not take the place in consideration"
   ]
  },
  {
   "cell_type": "code",
   "execution_count": null,
   "metadata": {},
   "outputs": [],
   "source": []
  }
 ],
 "metadata": {
  "kernelspec": {
   "display_name": "Python 3",
   "language": "python",
   "name": "python3"
  },
  "language_info": {
   "codemirror_mode": {
    "name": "ipython",
    "version": 3
   },
   "file_extension": ".py",
   "mimetype": "text/x-python",
   "name": "python",
   "nbconvert_exporter": "python",
   "pygments_lexer": "ipython3",
   "version": "3.8.5"
  }
 },
 "nbformat": 4,
 "nbformat_minor": 4
}
