{
 "cells": [
  {
   "cell_type": "code",
   "execution_count": 12,
   "metadata": {},
   "outputs": [],
   "source": [
    "import numpy as np\n",
    "import pandas as pd\n",
    "import matplotlib.pyplot as plt\n",
    "from pathlib import Path"
   ]
  },
  {
   "cell_type": "code",
   "execution_count": 13,
   "metadata": {},
   "outputs": [],
   "source": [
    "path_1 = Path('/Users/oleseifert/Documents/Techlabs/SoSe-21-Team-10_Main/data/raw')\n",
    "df = pd.read_csv(path_1.joinpath('2000-2002.csv'), index_col='date', parse_dates=True)"
   ]
  },
  {
   "cell_type": "markdown",
   "metadata": {},
   "source": [
    "### This time I am using an approach to avoid data leakage. Im trying to split the train and test set first and afterwards build the model and do all the data preparation stuff"
   ]
  },
  {
   "cell_type": "code",
   "execution_count": 15,
   "metadata": {},
   "outputs": [],
   "source": [
    "# drop the fips column, because in this df all the entries are the same\n",
    "df.drop(['fips'], axis=1, inplace=True)"
   ]
  },
  {
   "cell_type": "code",
   "execution_count": 17,
   "metadata": {},
   "outputs": [],
   "source": [
    "# interpolate the data\n",
    "df.interpolate(method='time', inplace=True)\n",
    "df.dropna(how='any', inplace=True)"
   ]
  },
  {
   "cell_type": "code",
   "execution_count": 18,
   "metadata": {},
   "outputs": [],
   "source": [
    "df['target'] = df.score.shift(-1)\n",
    "df.dropna(inplace=True)"
   ]
  },
  {
   "cell_type": "code",
   "execution_count": 23,
   "metadata": {},
   "outputs": [
    {
     "data": {
      "text/html": [
       "<div>\n",
       "<style scoped>\n",
       "    .dataframe tbody tr th:only-of-type {\n",
       "        vertical-align: middle;\n",
       "    }\n",
       "\n",
       "    .dataframe tbody tr th {\n",
       "        vertical-align: top;\n",
       "    }\n",
       "\n",
       "    .dataframe thead th {\n",
       "        text-align: right;\n",
       "    }\n",
       "</style>\n",
       "<table border=\"1\" class=\"dataframe\">\n",
       "  <thead>\n",
       "    <tr style=\"text-align: right;\">\n",
       "      <th></th>\n",
       "      <th>PRECTOT</th>\n",
       "      <th>PS</th>\n",
       "      <th>QV2M</th>\n",
       "      <th>T2M</th>\n",
       "      <th>T2MDEW</th>\n",
       "      <th>T2MWET</th>\n",
       "      <th>T2M_MAX</th>\n",
       "      <th>T2M_MIN</th>\n",
       "      <th>T2M_RANGE</th>\n",
       "      <th>TS</th>\n",
       "      <th>WS10M</th>\n",
       "      <th>WS10M_MAX</th>\n",
       "      <th>WS10M_MIN</th>\n",
       "      <th>WS10M_RANGE</th>\n",
       "      <th>WS50M</th>\n",
       "      <th>WS50M_MAX</th>\n",
       "      <th>WS50M_MIN</th>\n",
       "      <th>WS50M_RANGE</th>\n",
       "      <th>score</th>\n",
       "      <th>target</th>\n",
       "    </tr>\n",
       "    <tr>\n",
       "      <th>date</th>\n",
       "      <th></th>\n",
       "      <th></th>\n",
       "      <th></th>\n",
       "      <th></th>\n",
       "      <th></th>\n",
       "      <th></th>\n",
       "      <th></th>\n",
       "      <th></th>\n",
       "      <th></th>\n",
       "      <th></th>\n",
       "      <th></th>\n",
       "      <th></th>\n",
       "      <th></th>\n",
       "      <th></th>\n",
       "      <th></th>\n",
       "      <th></th>\n",
       "      <th></th>\n",
       "      <th></th>\n",
       "      <th></th>\n",
       "      <th></th>\n",
       "    </tr>\n",
       "  </thead>\n",
       "  <tbody>\n",
       "    <tr>\n",
       "      <th>2002-12-26</th>\n",
       "      <td>0.0</td>\n",
       "      <td>101.19</td>\n",
       "      <td>3.17</td>\n",
       "      <td>0.65</td>\n",
       "      <td>-2.33</td>\n",
       "      <td>-2.30</td>\n",
       "      <td>7.40</td>\n",
       "      <td>-2.88</td>\n",
       "      <td>10.28</td>\n",
       "      <td>0.47</td>\n",
       "      <td>1.61</td>\n",
       "      <td>2.16</td>\n",
       "      <td>1.16</td>\n",
       "      <td>1.00</td>\n",
       "      <td>3.07</td>\n",
       "      <td>4.76</td>\n",
       "      <td>1.85</td>\n",
       "      <td>2.91</td>\n",
       "      <td>0.0</td>\n",
       "      <td>0.0</td>\n",
       "    </tr>\n",
       "    <tr>\n",
       "      <th>2002-12-27</th>\n",
       "      <td>0.0</td>\n",
       "      <td>101.24</td>\n",
       "      <td>3.15</td>\n",
       "      <td>1.81</td>\n",
       "      <td>-2.40</td>\n",
       "      <td>-2.37</td>\n",
       "      <td>9.50</td>\n",
       "      <td>-4.41</td>\n",
       "      <td>13.91</td>\n",
       "      <td>0.70</td>\n",
       "      <td>1.71</td>\n",
       "      <td>2.40</td>\n",
       "      <td>0.52</td>\n",
       "      <td>1.88</td>\n",
       "      <td>2.96</td>\n",
       "      <td>4.22</td>\n",
       "      <td>0.65</td>\n",
       "      <td>3.58</td>\n",
       "      <td>0.0</td>\n",
       "      <td>0.0</td>\n",
       "    </tr>\n",
       "    <tr>\n",
       "      <th>2002-12-28</th>\n",
       "      <td>0.0</td>\n",
       "      <td>101.16</td>\n",
       "      <td>4.37</td>\n",
       "      <td>4.08</td>\n",
       "      <td>1.83</td>\n",
       "      <td>1.84</td>\n",
       "      <td>13.11</td>\n",
       "      <td>-2.46</td>\n",
       "      <td>15.58</td>\n",
       "      <td>3.60</td>\n",
       "      <td>2.09</td>\n",
       "      <td>2.65</td>\n",
       "      <td>0.71</td>\n",
       "      <td>1.94</td>\n",
       "      <td>4.21</td>\n",
       "      <td>5.77</td>\n",
       "      <td>1.08</td>\n",
       "      <td>4.68</td>\n",
       "      <td>0.0</td>\n",
       "      <td>0.0</td>\n",
       "    </tr>\n",
       "    <tr>\n",
       "      <th>2002-12-29</th>\n",
       "      <td>0.0</td>\n",
       "      <td>100.93</td>\n",
       "      <td>5.41</td>\n",
       "      <td>7.06</td>\n",
       "      <td>4.96</td>\n",
       "      <td>4.96</td>\n",
       "      <td>15.25</td>\n",
       "      <td>1.11</td>\n",
       "      <td>14.14</td>\n",
       "      <td>6.93</td>\n",
       "      <td>1.64</td>\n",
       "      <td>2.56</td>\n",
       "      <td>0.60</td>\n",
       "      <td>1.95</td>\n",
       "      <td>3.45</td>\n",
       "      <td>6.12</td>\n",
       "      <td>0.87</td>\n",
       "      <td>5.25</td>\n",
       "      <td>0.0</td>\n",
       "      <td>0.0</td>\n",
       "    </tr>\n",
       "    <tr>\n",
       "      <th>2002-12-30</th>\n",
       "      <td>1.4</td>\n",
       "      <td>100.57</td>\n",
       "      <td>7.02</td>\n",
       "      <td>9.76</td>\n",
       "      <td>8.57</td>\n",
       "      <td>8.57</td>\n",
       "      <td>14.41</td>\n",
       "      <td>4.48</td>\n",
       "      <td>9.94</td>\n",
       "      <td>9.73</td>\n",
       "      <td>2.27</td>\n",
       "      <td>3.10</td>\n",
       "      <td>1.49</td>\n",
       "      <td>1.62</td>\n",
       "      <td>4.59</td>\n",
       "      <td>6.14</td>\n",
       "      <td>2.83</td>\n",
       "      <td>3.31</td>\n",
       "      <td>0.0</td>\n",
       "      <td>0.0</td>\n",
       "    </tr>\n",
       "  </tbody>\n",
       "</table>\n",
       "</div>"
      ],
      "text/plain": [
       "            PRECTOT      PS  QV2M   T2M  T2MDEW  T2MWET  T2M_MAX  T2M_MIN  \\\n",
       "date                                                                        \n",
       "2002-12-26      0.0  101.19  3.17  0.65   -2.33   -2.30     7.40    -2.88   \n",
       "2002-12-27      0.0  101.24  3.15  1.81   -2.40   -2.37     9.50    -4.41   \n",
       "2002-12-28      0.0  101.16  4.37  4.08    1.83    1.84    13.11    -2.46   \n",
       "2002-12-29      0.0  100.93  5.41  7.06    4.96    4.96    15.25     1.11   \n",
       "2002-12-30      1.4  100.57  7.02  9.76    8.57    8.57    14.41     4.48   \n",
       "\n",
       "            T2M_RANGE    TS  WS10M  WS10M_MAX  WS10M_MIN  WS10M_RANGE  WS50M  \\\n",
       "date                                                                           \n",
       "2002-12-26      10.28  0.47   1.61       2.16       1.16         1.00   3.07   \n",
       "2002-12-27      13.91  0.70   1.71       2.40       0.52         1.88   2.96   \n",
       "2002-12-28      15.58  3.60   2.09       2.65       0.71         1.94   4.21   \n",
       "2002-12-29      14.14  6.93   1.64       2.56       0.60         1.95   3.45   \n",
       "2002-12-30       9.94  9.73   2.27       3.10       1.49         1.62   4.59   \n",
       "\n",
       "            WS50M_MAX  WS50M_MIN  WS50M_RANGE  score  target  \n",
       "date                                                          \n",
       "2002-12-26       4.76       1.85         2.91    0.0     0.0  \n",
       "2002-12-27       4.22       0.65         3.58    0.0     0.0  \n",
       "2002-12-28       5.77       1.08         4.68    0.0     0.0  \n",
       "2002-12-29       6.12       0.87         5.25    0.0     0.0  \n",
       "2002-12-30       6.14       2.83         3.31    0.0     0.0  "
      ]
     },
     "execution_count": 23,
     "metadata": {},
     "output_type": "execute_result"
    }
   ],
   "source": [
    "df.tail()"
   ]
  },
  {
   "cell_type": "code",
   "execution_count": 25,
   "metadata": {},
   "outputs": [],
   "source": [
    "X_train = df.drop(['target'], axis = 1).iloc[0:764]\n",
    "X_test = df.drop(['target'], axis = 1).iloc[764:]\n",
    "y_train = df.target.iloc[0:764]\n",
    "y_test = df.target.iloc[764:]"
   ]
  },
  {
   "cell_type": "code",
   "execution_count": 29,
   "metadata": {},
   "outputs": [],
   "source": [
    "X_test_half = df.drop(['target'], axis = 1).iloc[764:928]\n",
    "y_test_half = df.target.iloc[764:928]\n",
    "validation_X = df.drop(['target'], axis = 1).iloc[928:]\n",
    "validation_y = df.target.iloc[928:]"
   ]
  },
  {
   "cell_type": "code",
   "execution_count": 31,
   "metadata": {},
   "outputs": [],
   "source": [
    "from sklearn.ensemble import RandomForestRegressor"
   ]
  },
  {
   "cell_type": "code",
   "execution_count": 32,
   "metadata": {},
   "outputs": [
    {
     "data": {
      "text/plain": [
       "RandomForestRegressor()"
      ]
     },
     "execution_count": 32,
     "metadata": {},
     "output_type": "execute_result"
    }
   ],
   "source": [
    "model = RandomForestRegressor()\n",
    "model.fit(X_train, y_train)"
   ]
  },
  {
   "cell_type": "code",
   "execution_count": 33,
   "metadata": {},
   "outputs": [],
   "source": [
    "prediction_test = model.predict(X_test_half)"
   ]
  },
  {
   "cell_type": "code",
   "execution_count": 67,
   "metadata": {},
   "outputs": [
    {
     "data": {
      "text/plain": [
       "[<matplotlib.lines.Line2D at 0x7ff020bcc670>]"
      ]
     },
     "execution_count": 67,
     "metadata": {},
     "output_type": "execute_result"
    },
    {
     "data": {
      "image/png": "[encoded data removed]",
      "text/plain": [
       "<Figure size 1224x360 with 1 Axes>"
      ]
     },
     "metadata": {
      "needs_background": "light"
     },
     "output_type": "display_data"
    }
   ],
   "source": [
    "plt.figure(figsize=(17,5))\n",
    "plt.plot(df.index[764:928], y_test_half, color='blue')\n",
    "plt.plot(df.index[764:928], prediction_test, color='red')"
   ]
  },
  {
   "cell_type": "code",
   "execution_count": 35,
   "metadata": {},
   "outputs": [],
   "source": [
    "predictions_validation = model.predict(validation_X)"
   ]
  },
  {
   "cell_type": "code",
   "execution_count": 36,
   "metadata": {},
   "outputs": [
    {
     "data": {
      "text/plain": [
       "[<matplotlib.lines.Line2D at 0x7ff0218c6640>]"
      ]
     },
     "execution_count": 36,
     "metadata": {},
     "output_type": "execute_result"
    },
    {
     "data": {
      "image/png": "[encoded data removed]",
      "text/plain": [
       "<Figure size 1224x360 with 1 Axes>"
      ]
     },
     "metadata": {
      "needs_background": "light"
     },
     "output_type": "display_data"
    }
   ],
   "source": [
    "plt.figure(figsize=(17,5))\n",
    "plt.plot(df.index[928:], validation_y, color='blue')\n",
    "plt.plot(df.index[928:], predictions_validation, color='red')"
   ]
  },
  {
   "cell_type": "code",
   "execution_count": 37,
   "metadata": {},
   "outputs": [],
   "source": [
    "from sklearn.metrics import accuracy_score"
   ]
  },
  {
   "cell_type": "code",
   "execution_count": 39,
   "metadata": {},
   "outputs": [
    {
     "data": {
      "text/plain": [
       "0.9919999427604093"
      ]
     },
     "execution_count": 39,
     "metadata": {},
     "output_type": "execute_result"
    }
   ],
   "source": [
    "model.score(X_test_half, y_test_half)"
   ]
  },
  {
   "cell_type": "code",
   "execution_count": 40,
   "metadata": {},
   "outputs": [
    {
     "data": {
      "text/plain": [
       "0.990495837507828"
      ]
     },
     "execution_count": 40,
     "metadata": {},
     "output_type": "execute_result"
    }
   ],
   "source": [
    "model.score(validation_X, validation_y)"
   ]
  },
  {
   "cell_type": "markdown",
   "metadata": {},
   "source": [
    "# Import another validation dataframe"
   ]
  },
  {
   "cell_type": "code",
   "execution_count": 54,
   "metadata": {},
   "outputs": [],
   "source": [
    "path_2 = Path('/Users/oleseifert/Documents/Techlabs/SoSe-21-Team-10_Main/data/raw')\n",
    "df_validation = pd.read_csv(path_1.joinpath('rf_validation.csv'), index_col='date', parse_dates=True)"
   ]
  },
  {
   "cell_type": "code",
   "execution_count": 55,
   "metadata": {},
   "outputs": [],
   "source": [
    "# Drop the fips column\n",
    "df_validation.drop(['fips'], axis=1, inplace=True)"
   ]
  },
  {
   "cell_type": "code",
   "execution_count": 60,
   "metadata": {},
   "outputs": [
    {
     "data": {
      "text/plain": [
       "(55, 20)"
      ]
     },
     "execution_count": 60,
     "metadata": {},
     "output_type": "execute_result"
    }
   ],
   "source": [
    "df_validation.shape"
   ]
  },
  {
   "cell_type": "code",
   "execution_count": 57,
   "metadata": {},
   "outputs": [],
   "source": [
    "# Interpolate the data\n",
    "df_validation.interpolate(method='time', inplace=True)\n",
    "df_validation.dropna(how='any', inplace=True)"
   ]
  },
  {
   "cell_type": "code",
   "execution_count": 59,
   "metadata": {},
   "outputs": [],
   "source": [
    "# Transform problem into supervised learning problem\n",
    "df_validation['target'] = df_validation.score.shift(-1)\n",
    "df_validation.dropna(inplace=True)"
   ]
  },
  {
   "cell_type": "code",
   "execution_count": 61,
   "metadata": {},
   "outputs": [],
   "source": [
    "validation_X_2 = df_validation.drop(['target'], axis = 1)\n",
    "validation_y_2 = df_validation.target"
   ]
  },
  {
   "cell_type": "code",
   "execution_count": 62,
   "metadata": {},
   "outputs": [
    {
     "data": {
      "text/plain": [
       "(55, 19)"
      ]
     },
     "execution_count": 62,
     "metadata": {},
     "output_type": "execute_result"
    }
   ],
   "source": [
    "validation_X_2.shape"
   ]
  },
  {
   "cell_type": "code",
   "execution_count": 64,
   "metadata": {},
   "outputs": [],
   "source": [
    "prediction_validation_2 = model.predict(validation_X_2)"
   ]
  },
  {
   "cell_type": "code",
   "execution_count": 68,
   "metadata": {},
   "outputs": [
    {
     "data": {
      "text/plain": [
       "[<matplotlib.lines.Line2D at 0x7ff02162b6d0>]"
      ]
     },
     "execution_count": 68,
     "metadata": {},
     "output_type": "execute_result"
    },
    {
     "data": {
      "image/png": "[encoded data removed]",
      "text/plain": [
       "<Figure size 1224x360 with 1 Axes>"
      ]
     },
     "metadata": {
      "needs_background": "light"
     },
     "output_type": "display_data"
    }
   ],
   "source": [
    "plt.figure(figsize=(17,5))\n",
    "plt.plot(df_validation.index, validation_y_2, color='blue')\n",
    "plt.plot(df_validation.index, prediction_validation_2, color='red')"
   ]
  },
  {
   "cell_type": "code",
   "execution_count": 70,
   "metadata": {},
   "outputs": [
    {
     "data": {
      "text/plain": [
       "0.9849019879869206"
      ]
     },
     "execution_count": 70,
     "metadata": {},
     "output_type": "execute_result"
    }
   ],
   "source": [
    "model.score(validation_X_2, validation_y_2)"
   ]
  },
  {
   "cell_type": "code",
   "execution_count": null,
   "metadata": {},
   "outputs": [],
   "source": []
  }
 ],
 "metadata": {
  "kernelspec": {
   "display_name": "Python 3",
   "language": "python",
   "name": "python3"
  },
  "language_info": {
   "codemirror_mode": {
    "name": "ipython",
    "version": 3
   },
   "file_extension": ".py",
   "mimetype": "text/x-python",
   "name": "python",
   "nbconvert_exporter": "python",
   "pygments_lexer": "ipython3",
   "version": "3.8.5"
  }
 },
 "nbformat": 4,
 "nbformat_minor": 4
}
