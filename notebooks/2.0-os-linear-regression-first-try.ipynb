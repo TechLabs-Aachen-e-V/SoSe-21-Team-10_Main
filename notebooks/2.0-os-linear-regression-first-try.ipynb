{
 "cells": [
  {
   "cell_type": "code",
   "execution_count": 1,
   "metadata": {},
   "outputs": [],
   "source": [
    "import numpy as np\n",
    "import pandas as pd\n",
    "import matplotlib.pyplot as plt\n",
    "import seaborn as sns\n",
    "from pathlib import Path"
   ]
  },
  {
   "cell_type": "markdown",
   "metadata": {},
   "source": [
    "# Import the Data"
   ]
  },
  {
   "cell_type": "code",
   "execution_count": 2,
   "metadata": {},
   "outputs": [],
   "source": [
    "path_1 = Path('/Users/oleseifert/Documents/Techlabs/SoSe-21-Team-10_Main/data/raw')\n",
    "df = pd.read_csv(path_1.joinpath('2000-2002.csv'), index_col='date', parse_dates=True)"
   ]
  },
  {
   "cell_type": "markdown",
   "metadata": {},
   "source": [
    "# First plot of the dependend variable"
   ]
  },
  {
   "cell_type": "code",
   "execution_count": 15,
   "metadata": {},
   "outputs": [],
   "source": [
    "# Only lock at the Data for one year to get a first idea\n",
    "\n",
    "df_2000=df.loc['2000-01-01':'2000-12-31', :]"
   ]
  },
  {
   "cell_type": "code",
   "execution_count": 39,
   "metadata": {},
   "outputs": [
    {
     "data": {
      "text/plain": [
       "<AxesSubplot:xlabel='date', ylabel='score'>"
      ]
     },
     "execution_count": 39,
     "metadata": {},
     "output_type": "execute_result"
    },
    {
     "data": {
      "image/png": "[encoded data removed]",
      "text/plain": [
       "<Figure size 432x288 with 1 Axes>"
      ]
     },
     "metadata": {
      "needs_background": "light"
     },
     "output_type": "display_data"
    }
   ],
   "source": [
    "sns.scatterplot(x='date', y='score', data=df)"
   ]
  },
  {
   "cell_type": "code",
   "execution_count": 4,
   "metadata": {},
   "outputs": [
    {
     "data": {
      "text/html": [
       "<div>\n",
       "<style scoped>\n",
       "    .dataframe tbody tr th:only-of-type {\n",
       "        vertical-align: middle;\n",
       "    }\n",
       "\n",
       "    .dataframe tbody tr th {\n",
       "        vertical-align: top;\n",
       "    }\n",
       "\n",
       "    .dataframe thead th {\n",
       "        text-align: right;\n",
       "    }\n",
       "</style>\n",
       "<table border=\"1\" class=\"dataframe\">\n",
       "  <thead>\n",
       "    <tr style=\"text-align: right;\">\n",
       "      <th></th>\n",
       "      <th>fips</th>\n",
       "      <th>PRECTOT</th>\n",
       "      <th>PS</th>\n",
       "      <th>QV2M</th>\n",
       "      <th>T2M</th>\n",
       "      <th>T2MDEW</th>\n",
       "      <th>T2MWET</th>\n",
       "      <th>T2M_MAX</th>\n",
       "      <th>T2M_MIN</th>\n",
       "      <th>T2M_RANGE</th>\n",
       "      <th>TS</th>\n",
       "      <th>WS10M</th>\n",
       "      <th>WS10M_MAX</th>\n",
       "      <th>WS10M_MIN</th>\n",
       "      <th>WS10M_RANGE</th>\n",
       "      <th>WS50M</th>\n",
       "      <th>WS50M_MAX</th>\n",
       "      <th>WS50M_MIN</th>\n",
       "      <th>WS50M_RANGE</th>\n",
       "      <th>score</th>\n",
       "    </tr>\n",
       "    <tr>\n",
       "      <th>date</th>\n",
       "      <th></th>\n",
       "      <th></th>\n",
       "      <th></th>\n",
       "      <th></th>\n",
       "      <th></th>\n",
       "      <th></th>\n",
       "      <th></th>\n",
       "      <th></th>\n",
       "      <th></th>\n",
       "      <th></th>\n",
       "      <th></th>\n",
       "      <th></th>\n",
       "      <th></th>\n",
       "      <th></th>\n",
       "      <th></th>\n",
       "      <th></th>\n",
       "      <th></th>\n",
       "      <th></th>\n",
       "      <th></th>\n",
       "      <th></th>\n",
       "    </tr>\n",
       "  </thead>\n",
       "  <tbody>\n",
       "    <tr>\n",
       "      <th>2000-01-01</th>\n",
       "      <td>1001</td>\n",
       "      <td>0.22</td>\n",
       "      <td>100.51</td>\n",
       "      <td>9.65</td>\n",
       "      <td>14.74</td>\n",
       "      <td>13.51</td>\n",
       "      <td>13.51</td>\n",
       "      <td>20.96</td>\n",
       "      <td>11.46</td>\n",
       "      <td>9.50</td>\n",
       "      <td>14.65</td>\n",
       "      <td>2.20</td>\n",
       "      <td>2.94</td>\n",
       "      <td>1.49</td>\n",
       "      <td>1.46</td>\n",
       "      <td>4.85</td>\n",
       "      <td>6.04</td>\n",
       "      <td>3.23</td>\n",
       "      <td>2.81</td>\n",
       "      <td>NaN</td>\n",
       "    </tr>\n",
       "    <tr>\n",
       "      <th>2000-01-02</th>\n",
       "      <td>1001</td>\n",
       "      <td>0.20</td>\n",
       "      <td>100.55</td>\n",
       "      <td>10.42</td>\n",
       "      <td>16.69</td>\n",
       "      <td>14.71</td>\n",
       "      <td>14.71</td>\n",
       "      <td>22.80</td>\n",
       "      <td>12.61</td>\n",
       "      <td>10.18</td>\n",
       "      <td>16.60</td>\n",
       "      <td>2.52</td>\n",
       "      <td>3.43</td>\n",
       "      <td>1.83</td>\n",
       "      <td>1.60</td>\n",
       "      <td>5.33</td>\n",
       "      <td>6.13</td>\n",
       "      <td>3.72</td>\n",
       "      <td>2.41</td>\n",
       "      <td>NaN</td>\n",
       "    </tr>\n",
       "    <tr>\n",
       "      <th>2000-01-03</th>\n",
       "      <td>1001</td>\n",
       "      <td>3.65</td>\n",
       "      <td>100.15</td>\n",
       "      <td>11.76</td>\n",
       "      <td>18.49</td>\n",
       "      <td>16.52</td>\n",
       "      <td>16.52</td>\n",
       "      <td>22.73</td>\n",
       "      <td>15.32</td>\n",
       "      <td>7.41</td>\n",
       "      <td>18.41</td>\n",
       "      <td>4.03</td>\n",
       "      <td>5.33</td>\n",
       "      <td>2.66</td>\n",
       "      <td>2.67</td>\n",
       "      <td>7.53</td>\n",
       "      <td>9.52</td>\n",
       "      <td>5.87</td>\n",
       "      <td>3.66</td>\n",
       "      <td>NaN</td>\n",
       "    </tr>\n",
       "    <tr>\n",
       "      <th>2000-01-04</th>\n",
       "      <td>1001</td>\n",
       "      <td>15.95</td>\n",
       "      <td>100.29</td>\n",
       "      <td>6.42</td>\n",
       "      <td>11.40</td>\n",
       "      <td>6.09</td>\n",
       "      <td>6.10</td>\n",
       "      <td>18.09</td>\n",
       "      <td>2.16</td>\n",
       "      <td>15.92</td>\n",
       "      <td>11.31</td>\n",
       "      <td>3.84</td>\n",
       "      <td>5.67</td>\n",
       "      <td>2.08</td>\n",
       "      <td>3.59</td>\n",
       "      <td>6.73</td>\n",
       "      <td>9.31</td>\n",
       "      <td>3.74</td>\n",
       "      <td>5.58</td>\n",
       "      <td>1.0</td>\n",
       "    </tr>\n",
       "    <tr>\n",
       "      <th>2000-01-05</th>\n",
       "      <td>1001</td>\n",
       "      <td>0.00</td>\n",
       "      <td>101.15</td>\n",
       "      <td>2.95</td>\n",
       "      <td>3.86</td>\n",
       "      <td>-3.29</td>\n",
       "      <td>-3.20</td>\n",
       "      <td>10.82</td>\n",
       "      <td>-2.66</td>\n",
       "      <td>13.48</td>\n",
       "      <td>2.65</td>\n",
       "      <td>1.60</td>\n",
       "      <td>2.50</td>\n",
       "      <td>0.52</td>\n",
       "      <td>1.98</td>\n",
       "      <td>2.94</td>\n",
       "      <td>4.85</td>\n",
       "      <td>0.65</td>\n",
       "      <td>4.19</td>\n",
       "      <td>NaN</td>\n",
       "    </tr>\n",
       "    <tr>\n",
       "      <th>2000-01-06</th>\n",
       "      <td>1001</td>\n",
       "      <td>0.01</td>\n",
       "      <td>101.31</td>\n",
       "      <td>3.49</td>\n",
       "      <td>4.99</td>\n",
       "      <td>-1.11</td>\n",
       "      <td>-1.07</td>\n",
       "      <td>12.89</td>\n",
       "      <td>-2.96</td>\n",
       "      <td>15.85</td>\n",
       "      <td>3.32</td>\n",
       "      <td>1.55</td>\n",
       "      <td>2.39</td>\n",
       "      <td>0.04</td>\n",
       "      <td>2.35</td>\n",
       "      <td>2.95</td>\n",
       "      <td>5.22</td>\n",
       "      <td>0.05</td>\n",
       "      <td>5.17</td>\n",
       "      <td>NaN</td>\n",
       "    </tr>\n",
       "    <tr>\n",
       "      <th>2000-01-07</th>\n",
       "      <td>1001</td>\n",
       "      <td>0.01</td>\n",
       "      <td>101.37</td>\n",
       "      <td>3.93</td>\n",
       "      <td>5.99</td>\n",
       "      <td>0.55</td>\n",
       "      <td>0.58</td>\n",
       "      <td>14.51</td>\n",
       "      <td>0.63</td>\n",
       "      <td>13.88</td>\n",
       "      <td>5.69</td>\n",
       "      <td>2.31</td>\n",
       "      <td>3.28</td>\n",
       "      <td>1.59</td>\n",
       "      <td>1.69</td>\n",
       "      <td>5.02</td>\n",
       "      <td>6.47</td>\n",
       "      <td>2.44</td>\n",
       "      <td>4.03</td>\n",
       "      <td>NaN</td>\n",
       "    </tr>\n",
       "    <tr>\n",
       "      <th>2000-01-08</th>\n",
       "      <td>1001</td>\n",
       "      <td>1.02</td>\n",
       "      <td>100.77</td>\n",
       "      <td>5.71</td>\n",
       "      <td>8.69</td>\n",
       "      <td>5.33</td>\n",
       "      <td>5.34</td>\n",
       "      <td>15.78</td>\n",
       "      <td>2.74</td>\n",
       "      <td>13.04</td>\n",
       "      <td>8.75</td>\n",
       "      <td>2.05</td>\n",
       "      <td>2.91</td>\n",
       "      <td>1.50</td>\n",
       "      <td>1.40</td>\n",
       "      <td>4.17</td>\n",
       "      <td>5.73</td>\n",
       "      <td>2.01</td>\n",
       "      <td>3.72</td>\n",
       "      <td>NaN</td>\n",
       "    </tr>\n",
       "    <tr>\n",
       "      <th>2000-01-09</th>\n",
       "      <td>1001</td>\n",
       "      <td>16.19</td>\n",
       "      <td>99.88</td>\n",
       "      <td>11.18</td>\n",
       "      <td>15.73</td>\n",
       "      <td>15.45</td>\n",
       "      <td>15.45</td>\n",
       "      <td>19.60</td>\n",
       "      <td>10.30</td>\n",
       "      <td>9.31</td>\n",
       "      <td>15.65</td>\n",
       "      <td>3.03</td>\n",
       "      <td>3.98</td>\n",
       "      <td>2.25</td>\n",
       "      <td>1.73</td>\n",
       "      <td>5.97</td>\n",
       "      <td>7.44</td>\n",
       "      <td>4.95</td>\n",
       "      <td>2.49</td>\n",
       "      <td>NaN</td>\n",
       "    </tr>\n",
       "    <tr>\n",
       "      <th>2000-01-10</th>\n",
       "      <td>1001</td>\n",
       "      <td>21.23</td>\n",
       "      <td>99.78</td>\n",
       "      <td>7.77</td>\n",
       "      <td>13.61</td>\n",
       "      <td>9.59</td>\n",
       "      <td>9.60</td>\n",
       "      <td>17.65</td>\n",
       "      <td>7.73</td>\n",
       "      <td>9.92</td>\n",
       "      <td>13.42</td>\n",
       "      <td>3.10</td>\n",
       "      <td>5.60</td>\n",
       "      <td>1.72</td>\n",
       "      <td>3.88</td>\n",
       "      <td>6.33</td>\n",
       "      <td>10.03</td>\n",
       "      <td>4.15</td>\n",
       "      <td>5.88</td>\n",
       "      <td>NaN</td>\n",
       "    </tr>\n",
       "    <tr>\n",
       "      <th>2000-01-11</th>\n",
       "      <td>1001</td>\n",
       "      <td>1.33</td>\n",
       "      <td>100.40</td>\n",
       "      <td>6.63</td>\n",
       "      <td>11.48</td>\n",
       "      <td>7.84</td>\n",
       "      <td>7.84</td>\n",
       "      <td>18.88</td>\n",
       "      <td>5.72</td>\n",
       "      <td>13.16</td>\n",
       "      <td>10.43</td>\n",
       "      <td>1.76</td>\n",
       "      <td>2.48</td>\n",
       "      <td>1.05</td>\n",
       "      <td>1.43</td>\n",
       "      <td>3.55</td>\n",
       "      <td>6.38</td>\n",
       "      <td>1.71</td>\n",
       "      <td>4.67</td>\n",
       "      <td>2.0</td>\n",
       "    </tr>\n",
       "    <tr>\n",
       "      <th>2000-01-12</th>\n",
       "      <td>1001</td>\n",
       "      <td>0.17</td>\n",
       "      <td>100.59</td>\n",
       "      <td>8.39</td>\n",
       "      <td>13.02</td>\n",
       "      <td>11.36</td>\n",
       "      <td>11.36</td>\n",
       "      <td>20.74</td>\n",
       "      <td>6.43</td>\n",
       "      <td>14.31</td>\n",
       "      <td>12.91</td>\n",
       "      <td>2.26</td>\n",
       "      <td>2.76</td>\n",
       "      <td>1.45</td>\n",
       "      <td>1.31</td>\n",
       "      <td>5.05</td>\n",
       "      <td>7.27</td>\n",
       "      <td>2.10</td>\n",
       "      <td>5.17</td>\n",
       "      <td>NaN</td>\n",
       "    </tr>\n",
       "    <tr>\n",
       "      <th>2000-01-13</th>\n",
       "      <td>1001</td>\n",
       "      <td>1.57</td>\n",
       "      <td>101.03</td>\n",
       "      <td>7.23</td>\n",
       "      <td>13.17</td>\n",
       "      <td>8.00</td>\n",
       "      <td>8.02</td>\n",
       "      <td>19.09</td>\n",
       "      <td>3.97</td>\n",
       "      <td>15.12</td>\n",
       "      <td>12.95</td>\n",
       "      <td>3.23</td>\n",
       "      <td>4.57</td>\n",
       "      <td>2.02</td>\n",
       "      <td>2.56</td>\n",
       "      <td>6.41</td>\n",
       "      <td>7.40</td>\n",
       "      <td>4.77</td>\n",
       "      <td>2.63</td>\n",
       "      <td>NaN</td>\n",
       "    </tr>\n",
       "    <tr>\n",
       "      <th>2000-01-14</th>\n",
       "      <td>1001</td>\n",
       "      <td>0.00</td>\n",
       "      <td>102.30</td>\n",
       "      <td>2.82</td>\n",
       "      <td>3.16</td>\n",
       "      <td>-3.74</td>\n",
       "      <td>-3.64</td>\n",
       "      <td>10.57</td>\n",
       "      <td>-1.56</td>\n",
       "      <td>12.14</td>\n",
       "      <td>3.13</td>\n",
       "      <td>2.74</td>\n",
       "      <td>3.71</td>\n",
       "      <td>1.78</td>\n",
       "      <td>1.93</td>\n",
       "      <td>5.32</td>\n",
       "      <td>6.72</td>\n",
       "      <td>3.60</td>\n",
       "      <td>3.12</td>\n",
       "      <td>NaN</td>\n",
       "    </tr>\n",
       "  </tbody>\n",
       "</table>\n",
       "</div>"
      ],
      "text/plain": [
       "            fips  PRECTOT      PS   QV2M    T2M  T2MDEW  T2MWET  T2M_MAX  \\\n",
       "date                                                                       \n",
       "2000-01-01  1001     0.22  100.51   9.65  14.74   13.51   13.51    20.96   \n",
       "2000-01-02  1001     0.20  100.55  10.42  16.69   14.71   14.71    22.80   \n",
       "2000-01-03  1001     3.65  100.15  11.76  18.49   16.52   16.52    22.73   \n",
       "2000-01-04  1001    15.95  100.29   6.42  11.40    6.09    6.10    18.09   \n",
       "2000-01-05  1001     0.00  101.15   2.95   3.86   -3.29   -3.20    10.82   \n",
       "2000-01-06  1001     0.01  101.31   3.49   4.99   -1.11   -1.07    12.89   \n",
       "2000-01-07  1001     0.01  101.37   3.93   5.99    0.55    0.58    14.51   \n",
       "2000-01-08  1001     1.02  100.77   5.71   8.69    5.33    5.34    15.78   \n",
       "2000-01-09  1001    16.19   99.88  11.18  15.73   15.45   15.45    19.60   \n",
       "2000-01-10  1001    21.23   99.78   7.77  13.61    9.59    9.60    17.65   \n",
       "2000-01-11  1001     1.33  100.40   6.63  11.48    7.84    7.84    18.88   \n",
       "2000-01-12  1001     0.17  100.59   8.39  13.02   11.36   11.36    20.74   \n",
       "2000-01-13  1001     1.57  101.03   7.23  13.17    8.00    8.02    19.09   \n",
       "2000-01-14  1001     0.00  102.30   2.82   3.16   -3.74   -3.64    10.57   \n",
       "\n",
       "            T2M_MIN  T2M_RANGE     TS  WS10M  WS10M_MAX  WS10M_MIN  \\\n",
       "date                                                                 \n",
       "2000-01-01    11.46       9.50  14.65   2.20       2.94       1.49   \n",
       "2000-01-02    12.61      10.18  16.60   2.52       3.43       1.83   \n",
       "2000-01-03    15.32       7.41  18.41   4.03       5.33       2.66   \n",
       "2000-01-04     2.16      15.92  11.31   3.84       5.67       2.08   \n",
       "2000-01-05    -2.66      13.48   2.65   1.60       2.50       0.52   \n",
       "2000-01-06    -2.96      15.85   3.32   1.55       2.39       0.04   \n",
       "2000-01-07     0.63      13.88   5.69   2.31       3.28       1.59   \n",
       "2000-01-08     2.74      13.04   8.75   2.05       2.91       1.50   \n",
       "2000-01-09    10.30       9.31  15.65   3.03       3.98       2.25   \n",
       "2000-01-10     7.73       9.92  13.42   3.10       5.60       1.72   \n",
       "2000-01-11     5.72      13.16  10.43   1.76       2.48       1.05   \n",
       "2000-01-12     6.43      14.31  12.91   2.26       2.76       1.45   \n",
       "2000-01-13     3.97      15.12  12.95   3.23       4.57       2.02   \n",
       "2000-01-14    -1.56      12.14   3.13   2.74       3.71       1.78   \n",
       "\n",
       "            WS10M_RANGE  WS50M  WS50M_MAX  WS50M_MIN  WS50M_RANGE  score  \n",
       "date                                                                      \n",
       "2000-01-01         1.46   4.85       6.04       3.23         2.81    NaN  \n",
       "2000-01-02         1.60   5.33       6.13       3.72         2.41    NaN  \n",
       "2000-01-03         2.67   7.53       9.52       5.87         3.66    NaN  \n",
       "2000-01-04         3.59   6.73       9.31       3.74         5.58    1.0  \n",
       "2000-01-05         1.98   2.94       4.85       0.65         4.19    NaN  \n",
       "2000-01-06         2.35   2.95       5.22       0.05         5.17    NaN  \n",
       "2000-01-07         1.69   5.02       6.47       2.44         4.03    NaN  \n",
       "2000-01-08         1.40   4.17       5.73       2.01         3.72    NaN  \n",
       "2000-01-09         1.73   5.97       7.44       4.95         2.49    NaN  \n",
       "2000-01-10         3.88   6.33      10.03       4.15         5.88    NaN  \n",
       "2000-01-11         1.43   3.55       6.38       1.71         4.67    2.0  \n",
       "2000-01-12         1.31   5.05       7.27       2.10         5.17    NaN  \n",
       "2000-01-13         2.56   6.41       7.40       4.77         2.63    NaN  \n",
       "2000-01-14         1.93   5.32       6.72       3.60         3.12    NaN  "
      ]
     },
     "execution_count": 4,
     "metadata": {},
     "output_type": "execute_result"
    }
   ],
   "source": [
    "df.head(14)"
   ]
  },
  {
   "cell_type": "code",
   "execution_count": 7,
   "metadata": {},
   "outputs": [
    {
     "name": "stdout",
     "output_type": "stream",
     "text": [
      "<class 'pandas.core.frame.DataFrame'>\n",
      "DatetimeIndex: 1096 entries, 2000-01-01 to 2002-12-31\n",
      "Data columns (total 20 columns):\n",
      " #   Column       Non-Null Count  Dtype  \n",
      "---  ------       --------------  -----  \n",
      " 0   fips         1096 non-null   int64  \n",
      " 1   PRECTOT      1096 non-null   float64\n",
      " 2   PS           1096 non-null   float64\n",
      " 3   QV2M         1096 non-null   float64\n",
      " 4   T2M          1096 non-null   float64\n",
      " 5   T2MDEW       1096 non-null   float64\n",
      " 6   T2MWET       1096 non-null   float64\n",
      " 7   T2M_MAX      1096 non-null   float64\n",
      " 8   T2M_MIN      1096 non-null   float64\n",
      " 9   T2M_RANGE    1096 non-null   float64\n",
      " 10  TS           1096 non-null   float64\n",
      " 11  WS10M        1096 non-null   float64\n",
      " 12  WS10M_MAX    1096 non-null   float64\n",
      " 13  WS10M_MIN    1096 non-null   float64\n",
      " 14  WS10M_RANGE  1096 non-null   float64\n",
      " 15  WS50M        1096 non-null   float64\n",
      " 16  WS50M_MAX    1096 non-null   float64\n",
      " 17  WS50M_MIN    1096 non-null   float64\n",
      " 18  WS50M_RANGE  1096 non-null   float64\n",
      " 19  score        157 non-null    float64\n",
      "dtypes: float64(19), int64(1)\n",
      "memory usage: 179.8 KB\n"
     ]
    }
   ],
   "source": [
    "df.info()"
   ]
  },
  {
   "cell_type": "code",
   "execution_count": 10,
   "metadata": {},
   "outputs": [
    {
     "name": "stdout",
     "output_type": "stream",
     "text": [
      "<class 'pandas.core.frame.DataFrame'>\n",
      "DatetimeIndex: 1093 entries, 2000-01-04 to 2002-12-31\n",
      "Data columns (total 20 columns):\n",
      " #   Column       Non-Null Count  Dtype  \n",
      "---  ------       --------------  -----  \n",
      " 0   fips         1093 non-null   int64  \n",
      " 1   PRECTOT      1093 non-null   float64\n",
      " 2   PS           1093 non-null   float64\n",
      " 3   QV2M         1093 non-null   float64\n",
      " 4   T2M          1093 non-null   float64\n",
      " 5   T2MDEW       1093 non-null   float64\n",
      " 6   T2MWET       1093 non-null   float64\n",
      " 7   T2M_MAX      1093 non-null   float64\n",
      " 8   T2M_MIN      1093 non-null   float64\n",
      " 9   T2M_RANGE    1093 non-null   float64\n",
      " 10  TS           1093 non-null   float64\n",
      " 11  WS10M        1093 non-null   float64\n",
      " 12  WS10M_MAX    1093 non-null   float64\n",
      " 13  WS10M_MIN    1093 non-null   float64\n",
      " 14  WS10M_RANGE  1093 non-null   float64\n",
      " 15  WS50M        1093 non-null   float64\n",
      " 16  WS50M_MAX    1093 non-null   float64\n",
      " 17  WS50M_MIN    1093 non-null   float64\n",
      " 18  WS50M_RANGE  1093 non-null   float64\n",
      " 19  score        1093 non-null   float64\n",
      "dtypes: float64(19), int64(1)\n",
      "memory usage: 179.3 KB\n"
     ]
    }
   ],
   "source": [
    "df_intpol.info()"
   ]
  },
  {
   "cell_type": "code",
   "execution_count": 11,
   "metadata": {},
   "outputs": [
    {
     "data": {
      "text/plain": [
       "939"
      ]
     },
     "execution_count": 11,
     "metadata": {},
     "output_type": "execute_result"
    }
   ],
   "source": [
    "df.score.isnull().sum()"
   ]
  },
  {
   "cell_type": "markdown",
   "metadata": {},
   "source": [
    "## Drop the 'fips' column because we don't need it"
   ]
  },
  {
   "cell_type": "code",
   "execution_count": 19,
   "metadata": {},
   "outputs": [],
   "source": [
    "df = df.drop(['fips'], axis=1)"
   ]
  },
  {
   "cell_type": "markdown",
   "metadata": {},
   "source": [
    "# Trying to do a implement a linear regression for this the data"
   ]
  },
  {
   "cell_type": "code",
   "execution_count": 36,
   "metadata": {},
   "outputs": [],
   "source": [
    "from sklearn.model_selection import train_test_split\n",
    "from sklearn.linear_model import LinearRegression"
   ]
  },
  {
   "cell_type": "markdown",
   "metadata": {},
   "source": [
    "## Interpolate the missing values"
   ]
  },
  {
   "cell_type": "code",
   "execution_count": 5,
   "metadata": {},
   "outputs": [],
   "source": [
    "df_intpol = df.interpolate(method='time')"
   ]
  },
  {
   "cell_type": "code",
   "execution_count": 6,
   "metadata": {},
   "outputs": [
    {
     "data": {
      "text/html": [
       "<div>\n",
       "<style scoped>\n",
       "    .dataframe tbody tr th:only-of-type {\n",
       "        vertical-align: middle;\n",
       "    }\n",
       "\n",
       "    .dataframe tbody tr th {\n",
       "        vertical-align: top;\n",
       "    }\n",
       "\n",
       "    .dataframe thead th {\n",
       "        text-align: right;\n",
       "    }\n",
       "</style>\n",
       "<table border=\"1\" class=\"dataframe\">\n",
       "  <thead>\n",
       "    <tr style=\"text-align: right;\">\n",
       "      <th></th>\n",
       "      <th>fips</th>\n",
       "      <th>PRECTOT</th>\n",
       "      <th>PS</th>\n",
       "      <th>QV2M</th>\n",
       "      <th>T2M</th>\n",
       "      <th>T2MDEW</th>\n",
       "      <th>T2MWET</th>\n",
       "      <th>T2M_MAX</th>\n",
       "      <th>T2M_MIN</th>\n",
       "      <th>T2M_RANGE</th>\n",
       "      <th>TS</th>\n",
       "      <th>WS10M</th>\n",
       "      <th>WS10M_MAX</th>\n",
       "      <th>WS10M_MIN</th>\n",
       "      <th>WS10M_RANGE</th>\n",
       "      <th>WS50M</th>\n",
       "      <th>WS50M_MAX</th>\n",
       "      <th>WS50M_MIN</th>\n",
       "      <th>WS50M_RANGE</th>\n",
       "      <th>score</th>\n",
       "    </tr>\n",
       "    <tr>\n",
       "      <th>date</th>\n",
       "      <th></th>\n",
       "      <th></th>\n",
       "      <th></th>\n",
       "      <th></th>\n",
       "      <th></th>\n",
       "      <th></th>\n",
       "      <th></th>\n",
       "      <th></th>\n",
       "      <th></th>\n",
       "      <th></th>\n",
       "      <th></th>\n",
       "      <th></th>\n",
       "      <th></th>\n",
       "      <th></th>\n",
       "      <th></th>\n",
       "      <th></th>\n",
       "      <th></th>\n",
       "      <th></th>\n",
       "      <th></th>\n",
       "      <th></th>\n",
       "    </tr>\n",
       "  </thead>\n",
       "  <tbody>\n",
       "    <tr>\n",
       "      <th>2000-01-01</th>\n",
       "      <td>1001</td>\n",
       "      <td>0.22</td>\n",
       "      <td>100.51</td>\n",
       "      <td>9.65</td>\n",
       "      <td>14.74</td>\n",
       "      <td>13.51</td>\n",
       "      <td>13.51</td>\n",
       "      <td>20.96</td>\n",
       "      <td>11.46</td>\n",
       "      <td>9.50</td>\n",
       "      <td>14.65</td>\n",
       "      <td>2.20</td>\n",
       "      <td>2.94</td>\n",
       "      <td>1.49</td>\n",
       "      <td>1.46</td>\n",
       "      <td>4.85</td>\n",
       "      <td>6.04</td>\n",
       "      <td>3.23</td>\n",
       "      <td>2.81</td>\n",
       "      <td>NaN</td>\n",
       "    </tr>\n",
       "    <tr>\n",
       "      <th>2000-01-02</th>\n",
       "      <td>1001</td>\n",
       "      <td>0.20</td>\n",
       "      <td>100.55</td>\n",
       "      <td>10.42</td>\n",
       "      <td>16.69</td>\n",
       "      <td>14.71</td>\n",
       "      <td>14.71</td>\n",
       "      <td>22.80</td>\n",
       "      <td>12.61</td>\n",
       "      <td>10.18</td>\n",
       "      <td>16.60</td>\n",
       "      <td>2.52</td>\n",
       "      <td>3.43</td>\n",
       "      <td>1.83</td>\n",
       "      <td>1.60</td>\n",
       "      <td>5.33</td>\n",
       "      <td>6.13</td>\n",
       "      <td>3.72</td>\n",
       "      <td>2.41</td>\n",
       "      <td>NaN</td>\n",
       "    </tr>\n",
       "    <tr>\n",
       "      <th>2000-01-03</th>\n",
       "      <td>1001</td>\n",
       "      <td>3.65</td>\n",
       "      <td>100.15</td>\n",
       "      <td>11.76</td>\n",
       "      <td>18.49</td>\n",
       "      <td>16.52</td>\n",
       "      <td>16.52</td>\n",
       "      <td>22.73</td>\n",
       "      <td>15.32</td>\n",
       "      <td>7.41</td>\n",
       "      <td>18.41</td>\n",
       "      <td>4.03</td>\n",
       "      <td>5.33</td>\n",
       "      <td>2.66</td>\n",
       "      <td>2.67</td>\n",
       "      <td>7.53</td>\n",
       "      <td>9.52</td>\n",
       "      <td>5.87</td>\n",
       "      <td>3.66</td>\n",
       "      <td>NaN</td>\n",
       "    </tr>\n",
       "    <tr>\n",
       "      <th>2000-01-04</th>\n",
       "      <td>1001</td>\n",
       "      <td>15.95</td>\n",
       "      <td>100.29</td>\n",
       "      <td>6.42</td>\n",
       "      <td>11.40</td>\n",
       "      <td>6.09</td>\n",
       "      <td>6.10</td>\n",
       "      <td>18.09</td>\n",
       "      <td>2.16</td>\n",
       "      <td>15.92</td>\n",
       "      <td>11.31</td>\n",
       "      <td>3.84</td>\n",
       "      <td>5.67</td>\n",
       "      <td>2.08</td>\n",
       "      <td>3.59</td>\n",
       "      <td>6.73</td>\n",
       "      <td>9.31</td>\n",
       "      <td>3.74</td>\n",
       "      <td>5.58</td>\n",
       "      <td>1.000000</td>\n",
       "    </tr>\n",
       "    <tr>\n",
       "      <th>2000-01-05</th>\n",
       "      <td>1001</td>\n",
       "      <td>0.00</td>\n",
       "      <td>101.15</td>\n",
       "      <td>2.95</td>\n",
       "      <td>3.86</td>\n",
       "      <td>-3.29</td>\n",
       "      <td>-3.20</td>\n",
       "      <td>10.82</td>\n",
       "      <td>-2.66</td>\n",
       "      <td>13.48</td>\n",
       "      <td>2.65</td>\n",
       "      <td>1.60</td>\n",
       "      <td>2.50</td>\n",
       "      <td>0.52</td>\n",
       "      <td>1.98</td>\n",
       "      <td>2.94</td>\n",
       "      <td>4.85</td>\n",
       "      <td>0.65</td>\n",
       "      <td>4.19</td>\n",
       "      <td>1.142857</td>\n",
       "    </tr>\n",
       "    <tr>\n",
       "      <th>2000-01-06</th>\n",
       "      <td>1001</td>\n",
       "      <td>0.01</td>\n",
       "      <td>101.31</td>\n",
       "      <td>3.49</td>\n",
       "      <td>4.99</td>\n",
       "      <td>-1.11</td>\n",
       "      <td>-1.07</td>\n",
       "      <td>12.89</td>\n",
       "      <td>-2.96</td>\n",
       "      <td>15.85</td>\n",
       "      <td>3.32</td>\n",
       "      <td>1.55</td>\n",
       "      <td>2.39</td>\n",
       "      <td>0.04</td>\n",
       "      <td>2.35</td>\n",
       "      <td>2.95</td>\n",
       "      <td>5.22</td>\n",
       "      <td>0.05</td>\n",
       "      <td>5.17</td>\n",
       "      <td>1.285714</td>\n",
       "    </tr>\n",
       "    <tr>\n",
       "      <th>2000-01-07</th>\n",
       "      <td>1001</td>\n",
       "      <td>0.01</td>\n",
       "      <td>101.37</td>\n",
       "      <td>3.93</td>\n",
       "      <td>5.99</td>\n",
       "      <td>0.55</td>\n",
       "      <td>0.58</td>\n",
       "      <td>14.51</td>\n",
       "      <td>0.63</td>\n",
       "      <td>13.88</td>\n",
       "      <td>5.69</td>\n",
       "      <td>2.31</td>\n",
       "      <td>3.28</td>\n",
       "      <td>1.59</td>\n",
       "      <td>1.69</td>\n",
       "      <td>5.02</td>\n",
       "      <td>6.47</td>\n",
       "      <td>2.44</td>\n",
       "      <td>4.03</td>\n",
       "      <td>1.428571</td>\n",
       "    </tr>\n",
       "    <tr>\n",
       "      <th>2000-01-08</th>\n",
       "      <td>1001</td>\n",
       "      <td>1.02</td>\n",
       "      <td>100.77</td>\n",
       "      <td>5.71</td>\n",
       "      <td>8.69</td>\n",
       "      <td>5.33</td>\n",
       "      <td>5.34</td>\n",
       "      <td>15.78</td>\n",
       "      <td>2.74</td>\n",
       "      <td>13.04</td>\n",
       "      <td>8.75</td>\n",
       "      <td>2.05</td>\n",
       "      <td>2.91</td>\n",
       "      <td>1.50</td>\n",
       "      <td>1.40</td>\n",
       "      <td>4.17</td>\n",
       "      <td>5.73</td>\n",
       "      <td>2.01</td>\n",
       "      <td>3.72</td>\n",
       "      <td>1.571429</td>\n",
       "    </tr>\n",
       "    <tr>\n",
       "      <th>2000-01-09</th>\n",
       "      <td>1001</td>\n",
       "      <td>16.19</td>\n",
       "      <td>99.88</td>\n",
       "      <td>11.18</td>\n",
       "      <td>15.73</td>\n",
       "      <td>15.45</td>\n",
       "      <td>15.45</td>\n",
       "      <td>19.60</td>\n",
       "      <td>10.30</td>\n",
       "      <td>9.31</td>\n",
       "      <td>15.65</td>\n",
       "      <td>3.03</td>\n",
       "      <td>3.98</td>\n",
       "      <td>2.25</td>\n",
       "      <td>1.73</td>\n",
       "      <td>5.97</td>\n",
       "      <td>7.44</td>\n",
       "      <td>4.95</td>\n",
       "      <td>2.49</td>\n",
       "      <td>1.714286</td>\n",
       "    </tr>\n",
       "    <tr>\n",
       "      <th>2000-01-10</th>\n",
       "      <td>1001</td>\n",
       "      <td>21.23</td>\n",
       "      <td>99.78</td>\n",
       "      <td>7.77</td>\n",
       "      <td>13.61</td>\n",
       "      <td>9.59</td>\n",
       "      <td>9.60</td>\n",
       "      <td>17.65</td>\n",
       "      <td>7.73</td>\n",
       "      <td>9.92</td>\n",
       "      <td>13.42</td>\n",
       "      <td>3.10</td>\n",
       "      <td>5.60</td>\n",
       "      <td>1.72</td>\n",
       "      <td>3.88</td>\n",
       "      <td>6.33</td>\n",
       "      <td>10.03</td>\n",
       "      <td>4.15</td>\n",
       "      <td>5.88</td>\n",
       "      <td>1.857143</td>\n",
       "    </tr>\n",
       "    <tr>\n",
       "      <th>2000-01-11</th>\n",
       "      <td>1001</td>\n",
       "      <td>1.33</td>\n",
       "      <td>100.40</td>\n",
       "      <td>6.63</td>\n",
       "      <td>11.48</td>\n",
       "      <td>7.84</td>\n",
       "      <td>7.84</td>\n",
       "      <td>18.88</td>\n",
       "      <td>5.72</td>\n",
       "      <td>13.16</td>\n",
       "      <td>10.43</td>\n",
       "      <td>1.76</td>\n",
       "      <td>2.48</td>\n",
       "      <td>1.05</td>\n",
       "      <td>1.43</td>\n",
       "      <td>3.55</td>\n",
       "      <td>6.38</td>\n",
       "      <td>1.71</td>\n",
       "      <td>4.67</td>\n",
       "      <td>2.000000</td>\n",
       "    </tr>\n",
       "    <tr>\n",
       "      <th>2000-01-12</th>\n",
       "      <td>1001</td>\n",
       "      <td>0.17</td>\n",
       "      <td>100.59</td>\n",
       "      <td>8.39</td>\n",
       "      <td>13.02</td>\n",
       "      <td>11.36</td>\n",
       "      <td>11.36</td>\n",
       "      <td>20.74</td>\n",
       "      <td>6.43</td>\n",
       "      <td>14.31</td>\n",
       "      <td>12.91</td>\n",
       "      <td>2.26</td>\n",
       "      <td>2.76</td>\n",
       "      <td>1.45</td>\n",
       "      <td>1.31</td>\n",
       "      <td>5.05</td>\n",
       "      <td>7.27</td>\n",
       "      <td>2.10</td>\n",
       "      <td>5.17</td>\n",
       "      <td>2.000000</td>\n",
       "    </tr>\n",
       "    <tr>\n",
       "      <th>2000-01-13</th>\n",
       "      <td>1001</td>\n",
       "      <td>1.57</td>\n",
       "      <td>101.03</td>\n",
       "      <td>7.23</td>\n",
       "      <td>13.17</td>\n",
       "      <td>8.00</td>\n",
       "      <td>8.02</td>\n",
       "      <td>19.09</td>\n",
       "      <td>3.97</td>\n",
       "      <td>15.12</td>\n",
       "      <td>12.95</td>\n",
       "      <td>3.23</td>\n",
       "      <td>4.57</td>\n",
       "      <td>2.02</td>\n",
       "      <td>2.56</td>\n",
       "      <td>6.41</td>\n",
       "      <td>7.40</td>\n",
       "      <td>4.77</td>\n",
       "      <td>2.63</td>\n",
       "      <td>2.000000</td>\n",
       "    </tr>\n",
       "    <tr>\n",
       "      <th>2000-01-14</th>\n",
       "      <td>1001</td>\n",
       "      <td>0.00</td>\n",
       "      <td>102.30</td>\n",
       "      <td>2.82</td>\n",
       "      <td>3.16</td>\n",
       "      <td>-3.74</td>\n",
       "      <td>-3.64</td>\n",
       "      <td>10.57</td>\n",
       "      <td>-1.56</td>\n",
       "      <td>12.14</td>\n",
       "      <td>3.13</td>\n",
       "      <td>2.74</td>\n",
       "      <td>3.71</td>\n",
       "      <td>1.78</td>\n",
       "      <td>1.93</td>\n",
       "      <td>5.32</td>\n",
       "      <td>6.72</td>\n",
       "      <td>3.60</td>\n",
       "      <td>3.12</td>\n",
       "      <td>2.000000</td>\n",
       "    </tr>\n",
       "  </tbody>\n",
       "</table>\n",
       "</div>"
      ],
      "text/plain": [
       "            fips  PRECTOT      PS   QV2M    T2M  T2MDEW  T2MWET  T2M_MAX  \\\n",
       "date                                                                       \n",
       "2000-01-01  1001     0.22  100.51   9.65  14.74   13.51   13.51    20.96   \n",
       "2000-01-02  1001     0.20  100.55  10.42  16.69   14.71   14.71    22.80   \n",
       "2000-01-03  1001     3.65  100.15  11.76  18.49   16.52   16.52    22.73   \n",
       "2000-01-04  1001    15.95  100.29   6.42  11.40    6.09    6.10    18.09   \n",
       "2000-01-05  1001     0.00  101.15   2.95   3.86   -3.29   -3.20    10.82   \n",
       "2000-01-06  1001     0.01  101.31   3.49   4.99   -1.11   -1.07    12.89   \n",
       "2000-01-07  1001     0.01  101.37   3.93   5.99    0.55    0.58    14.51   \n",
       "2000-01-08  1001     1.02  100.77   5.71   8.69    5.33    5.34    15.78   \n",
       "2000-01-09  1001    16.19   99.88  11.18  15.73   15.45   15.45    19.60   \n",
       "2000-01-10  1001    21.23   99.78   7.77  13.61    9.59    9.60    17.65   \n",
       "2000-01-11  1001     1.33  100.40   6.63  11.48    7.84    7.84    18.88   \n",
       "2000-01-12  1001     0.17  100.59   8.39  13.02   11.36   11.36    20.74   \n",
       "2000-01-13  1001     1.57  101.03   7.23  13.17    8.00    8.02    19.09   \n",
       "2000-01-14  1001     0.00  102.30   2.82   3.16   -3.74   -3.64    10.57   \n",
       "\n",
       "            T2M_MIN  T2M_RANGE     TS  WS10M  WS10M_MAX  WS10M_MIN  \\\n",
       "date                                                                 \n",
       "2000-01-01    11.46       9.50  14.65   2.20       2.94       1.49   \n",
       "2000-01-02    12.61      10.18  16.60   2.52       3.43       1.83   \n",
       "2000-01-03    15.32       7.41  18.41   4.03       5.33       2.66   \n",
       "2000-01-04     2.16      15.92  11.31   3.84       5.67       2.08   \n",
       "2000-01-05    -2.66      13.48   2.65   1.60       2.50       0.52   \n",
       "2000-01-06    -2.96      15.85   3.32   1.55       2.39       0.04   \n",
       "2000-01-07     0.63      13.88   5.69   2.31       3.28       1.59   \n",
       "2000-01-08     2.74      13.04   8.75   2.05       2.91       1.50   \n",
       "2000-01-09    10.30       9.31  15.65   3.03       3.98       2.25   \n",
       "2000-01-10     7.73       9.92  13.42   3.10       5.60       1.72   \n",
       "2000-01-11     5.72      13.16  10.43   1.76       2.48       1.05   \n",
       "2000-01-12     6.43      14.31  12.91   2.26       2.76       1.45   \n",
       "2000-01-13     3.97      15.12  12.95   3.23       4.57       2.02   \n",
       "2000-01-14    -1.56      12.14   3.13   2.74       3.71       1.78   \n",
       "\n",
       "            WS10M_RANGE  WS50M  WS50M_MAX  WS50M_MIN  WS50M_RANGE     score  \n",
       "date                                                                         \n",
       "2000-01-01         1.46   4.85       6.04       3.23         2.81       NaN  \n",
       "2000-01-02         1.60   5.33       6.13       3.72         2.41       NaN  \n",
       "2000-01-03         2.67   7.53       9.52       5.87         3.66       NaN  \n",
       "2000-01-04         3.59   6.73       9.31       3.74         5.58  1.000000  \n",
       "2000-01-05         1.98   2.94       4.85       0.65         4.19  1.142857  \n",
       "2000-01-06         2.35   2.95       5.22       0.05         5.17  1.285714  \n",
       "2000-01-07         1.69   5.02       6.47       2.44         4.03  1.428571  \n",
       "2000-01-08         1.40   4.17       5.73       2.01         3.72  1.571429  \n",
       "2000-01-09         1.73   5.97       7.44       4.95         2.49  1.714286  \n",
       "2000-01-10         3.88   6.33      10.03       4.15         5.88  1.857143  \n",
       "2000-01-11         1.43   3.55       6.38       1.71         4.67  2.000000  \n",
       "2000-01-12         1.31   5.05       7.27       2.10         5.17  2.000000  \n",
       "2000-01-13         2.56   6.41       7.40       4.77         2.63  2.000000  \n",
       "2000-01-14         1.93   5.32       6.72       3.60         3.12  2.000000  "
      ]
     },
     "execution_count": 6,
     "metadata": {},
     "output_type": "execute_result"
    }
   ],
   "source": [
    "df_intpol.head(14)"
   ]
  },
  {
   "cell_type": "code",
   "execution_count": 9,
   "metadata": {},
   "outputs": [],
   "source": [
    "df_intpol.dropna(how='any', inplace=True)"
   ]
  },
  {
   "cell_type": "code",
   "execution_count": 57,
   "metadata": {},
   "outputs": [
    {
     "data": {
      "text/plain": [
       "(1096, 20)"
      ]
     },
     "execution_count": 57,
     "metadata": {},
     "output_type": "execute_result"
    }
   ],
   "source": []
  },
  {
   "cell_type": "markdown",
   "metadata": {},
   "source": [
    "## Plot of the interpolated data"
   ]
  },
  {
   "cell_type": "code",
   "execution_count": 43,
   "metadata": {},
   "outputs": [
    {
     "data": {
      "text/plain": [
       "<AxesSubplot:xlabel='date', ylabel='score'>"
      ]
     },
     "execution_count": 43,
     "metadata": {},
     "output_type": "execute_result"
    },
    {
     "data": {
      "image/png": "[encoded data removed]",
      "text/plain": [
       "<Figure size 432x288 with 2 Axes>"
      ]
     },
     "metadata": {
      "needs_background": "light"
     },
     "output_type": "display_data"
    }
   ],
   "source": [
    "plt.subplot(2,1,1)\n",
    "sns.scatterplot(x='date', y='score', data=df)\n",
    "plt.subplot(2,1,2)\n",
    "sns.scatterplot(x='date', y='score', data=df_intpol)"
   ]
  },
  {
   "cell_type": "markdown",
   "metadata": {},
   "source": [
    "## Split the dataset into test and train dataset"
   ]
  },
  {
   "cell_type": "code",
   "execution_count": 35,
   "metadata": {},
   "outputs": [],
   "source": [
    "X = df_intpol.drop(['score'], axis=1).values\n",
    "y = df_intpol['score'].values"
   ]
  },
  {
   "cell_type": "code",
   "execution_count": 37,
   "metadata": {},
   "outputs": [],
   "source": [
    "X_train, X_test, y_train, y_test = train_test_split(X, y, test_size=0.3, random_state=21)"
   ]
  },
  {
   "cell_type": "markdown",
   "metadata": {},
   "source": [
    "## Create the Linear Regression model"
   ]
  },
  {
   "cell_type": "code",
   "execution_count": 73,
   "metadata": {},
   "outputs": [
    {
     "data": {
      "text/plain": [
       "LinearRegression()"
      ]
     },
     "execution_count": 73,
     "metadata": {},
     "output_type": "execute_result"
    }
   ],
   "source": [
    "model = LinearRegression()\n",
    "model.fit(X_train, y_train)"
   ]
  },
  {
   "cell_type": "code",
   "execution_count": 74,
   "metadata": {},
   "outputs": [
    {
     "data": {
      "text/plain": [
       "0.29090305515305503"
      ]
     },
     "execution_count": 74,
     "metadata": {},
     "output_type": "execute_result"
    }
   ],
   "source": [
    "model.score(X_test, y_test)"
   ]
  },
  {
   "cell_type": "code",
   "execution_count": 75,
   "metadata": {},
   "outputs": [],
   "source": [
    "y_pred = model.predict(X_test)"
   ]
  },
  {
   "cell_type": "code",
   "execution_count": 77,
   "metadata": {},
   "outputs": [],
   "source": [
    "from sklearn.model_selection import cross_val_score"
   ]
  },
  {
   "cell_type": "code",
   "execution_count": 78,
   "metadata": {},
   "outputs": [],
   "source": [
    "cv_results = cross_val_score(model, X, y, cv=5)"
   ]
  },
  {
   "cell_type": "code",
   "execution_count": 79,
   "metadata": {},
   "outputs": [
    {
     "data": {
      "text/plain": [
       "-1.1111514677632084"
      ]
     },
     "execution_count": 79,
     "metadata": {},
     "output_type": "execute_result"
    }
   ],
   "source": [
    "np.mean(cv_results)"
   ]
  },
  {
   "cell_type": "markdown",
   "metadata": {},
   "source": [
    "## Create Lasso Regression"
   ]
  },
  {
   "cell_type": "code",
   "execution_count": 80,
   "metadata": {},
   "outputs": [],
   "source": [
    "from sklearn.linear_model import Lasso"
   ]
  },
  {
   "cell_type": "code",
   "execution_count": 81,
   "metadata": {},
   "outputs": [],
   "source": [
    "lasso = Lasso(alpha=0.1, normalize=True)"
   ]
  },
  {
   "cell_type": "code",
   "execution_count": 82,
   "metadata": {},
   "outputs": [
    {
     "data": {
      "text/plain": [
       "Lasso(alpha=0.1, normalize=True)"
      ]
     },
     "execution_count": 82,
     "metadata": {},
     "output_type": "execute_result"
    }
   ],
   "source": [
    "lasso.fit(X_train, y_train)"
   ]
  },
  {
   "cell_type": "code",
   "execution_count": 83,
   "metadata": {},
   "outputs": [],
   "source": [
    "lasso_pred = lasso.predict(X_test)"
   ]
  },
  {
   "cell_type": "code",
   "execution_count": 84,
   "metadata": {},
   "outputs": [
    {
     "data": {
      "text/plain": [
       "-0.0007639938606014418"
      ]
     },
     "execution_count": 84,
     "metadata": {},
     "output_type": "execute_result"
    }
   ],
   "source": [
    "lasso.score(X_test, y_test)"
   ]
  },
  {
   "cell_type": "markdown",
   "metadata": {},
   "source": [
    "## Create Ridge Regression"
   ]
  },
  {
   "cell_type": "code",
   "execution_count": 85,
   "metadata": {},
   "outputs": [],
   "source": [
    "from sklearn.linear_model import Ridge"
   ]
  },
  {
   "cell_type": "code",
   "execution_count": 86,
   "metadata": {},
   "outputs": [],
   "source": [
    "ridge = Ridge(alpha=0.1, normalize=True)"
   ]
  },
  {
   "cell_type": "code",
   "execution_count": 87,
   "metadata": {},
   "outputs": [
    {
     "data": {
      "text/plain": [
       "Ridge(alpha=0.1, normalize=True)"
      ]
     },
     "execution_count": 87,
     "metadata": {},
     "output_type": "execute_result"
    }
   ],
   "source": [
    "ridge.fit(X_train, y_train)"
   ]
  },
  {
   "cell_type": "code",
   "execution_count": 88,
   "metadata": {},
   "outputs": [],
   "source": [
    "ridge_pred = ridge.predict(X_test)"
   ]
  },
  {
   "cell_type": "code",
   "execution_count": 89,
   "metadata": {},
   "outputs": [
    {
     "data": {
      "text/plain": [
       "0.20341531933225354"
      ]
     },
     "execution_count": 89,
     "metadata": {},
     "output_type": "execute_result"
    }
   ],
   "source": [
    "ridge.score(X_test, y_test)"
   ]
  },
  {
   "cell_type": "markdown",
   "metadata": {},
   "source": [
    "## Plot of the model"
   ]
  },
  {
   "cell_type": "code",
   "execution_count": null,
   "metadata": {},
   "outputs": [],
   "source": []
  }
 ],
 "metadata": {
  "kernelspec": {
   "display_name": "Python 3",
   "language": "python",
   "name": "python3"
  },
  "language_info": {
   "codemirror_mode": {
    "name": "ipython",
    "version": 3
   },
   "file_extension": ".py",
   "mimetype": "text/x-python",
   "name": "python",
   "nbconvert_exporter": "python",
   "pygments_lexer": "ipython3",
   "version": "3.8.5"
  }
 },
 "nbformat": 4,
 "nbformat_minor": 4
}
